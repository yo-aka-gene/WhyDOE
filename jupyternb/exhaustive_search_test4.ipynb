{
 "cells": [
  {
   "cell_type": "markdown",
   "id": "96c9dd5f-54ed-407a-918b-f207853c3ed4",
   "metadata": {
    "tags": []
   },
   "source": [
    "# Test4 with Benchmarking"
   ]
  },
  {
   "cell_type": "code",
   "execution_count": 8,
   "id": "c2b215ef-a092-4bd5-b174-5158df9a661b",
   "metadata": {
    "tags": []
   },
   "outputs": [],
   "source": [
    "from itertools import product\n",
    "from typing import NamedTuple\n",
    "\n",
    "import matplotlib.pyplot as plt\n",
    "import numpy as np\n",
    "import pandas as pd\n",
    "import seaborn as sns\n",
    "from sklearn.metrics import cohen_kappa_score, accuracy_score\n",
    "import statsmodels.api as sm\n",
    "from tqdm.notebook import tqdm\n",
    "\n",
    "from doe_modules.design import DOE, FullFactorial, CLOO, PlackettBurman, d_criterion, DOCLOO\n",
    "from doe_modules.plot import bio_multicomp\n",
    "from doe_modules.preferences import kwarg_savefig, outputdir\n",
    "from doe_modules.simulation import Test4, MLR, AbstractSimulator, TheoreticalEffects"
   ]
  },
  {
   "cell_type": "code",
   "execution_count": 2,
   "id": "c96541b6-7c70-4ba8-98e7-d074be5c006f",
   "metadata": {},
   "outputs": [],
   "source": [
    "class Config(NamedTuple):\n",
    "    savefig: bool = True\n",
    "    out: str = outputdir\n",
    "    simulator: AbstractSimulator = Test4\n",
    "    run_names: list = None\n",
    "    suffix: str = \"_test4\"\n",
    "\n",
    "conf = Config()"
   ]
  },
  {
   "cell_type": "code",
   "execution_count": 3,
   "id": "62259a5e-651f-4acc-90a9-d6c58e605c1a",
   "metadata": {},
   "outputs": [
    {
     "data": {
      "text/plain": [
       "Text(0.5, 1.0, 'ESM4-#59048')"
      ]
     },
     "execution_count": 3,
     "metadata": {},
     "output_type": "execute_result"
    },
    {
     "data": {
      "image/png": "[encoded data removed]",
      "text/plain": [
       "<Figure size 400x300 with 1 Axes>"
      ]
     },
     "metadata": {},
     "output_type": "display_data"
    }
   ],
   "source": [
    "fig, ax = plt.subplots(figsize=(4, 3))\n",
    "\n",
    "conf.simulator(edge_assignsment=[1] * 10).plot(ax=ax)\n",
    "ax.set_title(conf.simulator(edge_assignsment=[1] * 10, model_id=3 ** 10 - 1).name)\n",
    "\n",
    "# if conf.savefig:\n",
    "#     fig.savefig(f\"{conf.out}/sim_model{conf.suffix}\", **kwarg_savefig)"
   ]
  },
  {
   "cell_type": "code",
   "execution_count": 4,
   "id": "c2acd349-4569-44a0-b253-e0f6d8c4c0ed",
   "metadata": {},
   "outputs": [],
   "source": [
    "edges = np.array(list(map(list, product([-1, 0, 1], repeat=10))))\n",
    "\n",
    "conditions = dict(\n",
    "    pb=[conf.simulator(v, model_id=i) for i, v in enumerate(edges)],\n",
    "    cloo=[conf.simulator(v, model_id=i) for i, v in enumerate(edges)],\n",
    ")\n",
    "\n",
    "designs = dict(\n",
    "    pb=PlackettBurman,\n",
    "    cloo=CLOO,\n",
    ")"
   ]
  },
  {
   "cell_type": "code",
   "execution_count": 6,
   "id": "f1025d37-cd8a-43f9-a43e-de97672c674f",
   "metadata": {},
   "outputs": [
    {
     "data": {
      "application/vnd.jupyter.widget-view+json": {
       "model_id": "958cd0998fc549c3ac546032055937bc",
       "version_major": 2,
       "version_minor": 0
      },
      "text/plain": [
       "  0%|          | 0/2 [00:00<?, ?it/s]"
      ]
     },
     "metadata": {},
     "output_type": "display_data"
    },
    {
     "data": {
      "application/vnd.jupyter.widget-view+json": {
       "model_id": "2e9640b171be4618868eca8812a33e4f",
       "version_major": 2,
       "version_minor": 0
      },
      "text/plain": [
       "  0%|          | 0/59049 [00:00<?, ?it/s]"
      ]
     },
     "metadata": {},
     "output_type": "display_data"
    },
    {
     "data": {
      "application/vnd.jupyter.widget-view+json": {
       "model_id": "6110da948a7f41a08c15a93254046056",
       "version_major": 2,
       "version_minor": 0
      },
      "text/plain": [
       "  0%|          | 0/59049 [00:00<?, ?it/s]"
      ]
     },
     "metadata": {},
     "output_type": "display_data"
    }
   ],
   "source": [
    "for k, models in tqdm(conditions.items(), total=len(designs)):\n",
    "    [\n",
    "        m.simulate(\n",
    "            design=designs[k], n_rep=3\n",
    "        ) for (i, m) in tqdm(enumerate(models), total=len(edges))\n",
    "    ]"
   ]
  },
  {
   "cell_type": "code",
   "execution_count": 10,
   "id": "92796915-b173-4e09-99cf-8eb49b3f95da",
   "metadata": {},
   "outputs": [
    {
     "data": {
      "application/vnd.jupyter.widget-view+json": {
       "model_id": "fd0f78328c6d444ab23db2e86fe6f217",
       "version_major": 2,
       "version_minor": 0
      },
      "text/plain": [
       "  0%|          | 0/59049 [00:00<?, ?it/s]"
      ]
     },
     "metadata": {},
     "output_type": "display_data"
    },
    {
     "data": {
      "application/vnd.jupyter.widget-view+json": {
       "model_id": "80e73e2008c14c3d842f42354031c582",
       "version_major": 2,
       "version_minor": 0
      },
      "text/plain": [
       "  0%|          | 0/59049 [00:00<?, ?it/s]"
      ]
     },
     "metadata": {},
     "output_type": "display_data"
    }
   ],
   "source": [
    "theoretical = [\n",
    "    TheoreticalEffects(\n",
    "        simulation=conf.simulator(v, model_id=i), random_state=0\n",
    "    ) for i, v in tqdm(enumerate(edges), total=len(edges))\n",
    "]\n",
    "\n",
    "ground_truth = [\n",
    "    theoretical[i].summary(dtype=int) for i in tqdm(range(len(edges)))\n",
    "]"
   ]
  },
  {
   "cell_type": "code",
   "execution_count": 12,
   "id": "b47b216e-22cc-425b-86fc-62a11d8e9d81",
   "metadata": {},
   "outputs": [
    {
     "data": {
      "application/vnd.jupyter.widget-view+json": {
       "model_id": "ad888b58a96047e9a0c732007eba7478",
       "version_major": 2,
       "version_minor": 0
      },
      "text/plain": [
       "  0%|          | 0/59049 [00:00<?, ?it/s]"
      ]
     },
     "metadata": {},
     "output_type": "display_data"
    }
   ],
   "source": [
    "import warnings\n",
    "\n",
    "warnings.simplefilter('ignore')\n",
    "\n",
    "pb_k, cloo_k = [], []\n",
    "pb_dd, cloo_dd = [], []\n",
    "\n",
    "def kappa(res, gt):\n",
    "    if gt.unique().size == 1:\n",
    "        f = lambda res, gt: accuracy_score(res, gt)\n",
    "    else:\n",
    "        f = lambda res, gt: cohen_kappa_score(res, gt, weights=\"linear\")\n",
    "    return np.nan if res.isna().all() else f(res, gt)\n",
    "\n",
    "# kappa = lambda res, gt: np.nan if res.isna().all() else cohen_kappa_score(res, gt, weights=\"linear\")\n",
    "\n",
    "for (pb, cloo, gt) in tqdm(zip(conditions[\"pb\"], conditions[\"cloo\"], ground_truth), total=len(edges)):\n",
    "    pb_res = MLR(pb).summary(anova=True, dtype=int, fill_nan=True)\n",
    "    cloo_res = MLR(cloo).summary(anova=True, dtype=int, fill_nan=True)\n",
    "    pb_k += [kappa(pb_res, gt)]\n",
    "    cloo_k += [kappa(cloo_res, gt)]"
   ]
  },
  {
   "cell_type": "code",
   "execution_count": 13,
   "id": "6bdbb903-0339-4634-9354-cbf0322fbafc",
   "metadata": {},
   "outputs": [],
   "source": [
    "def voronoi(c_p):\n",
    "    c, p = c_p\n",
    "    if c < .6 and p < .6:\n",
    "        ret = 0\n",
    "    elif c > p:\n",
    "        ret = 1\n",
    "    elif c < p:\n",
    "        ret = 2\n",
    "    else:\n",
    "        ret = 3\n",
    "    return ret\n",
    "\n",
    "def voronoi_label(c_p):\n",
    "    return [\"neither\", \"C+LOO\", \"PB\", \"both\"][voronoi(c_p)]"
   ]
  },
  {
   "cell_type": "code",
   "execution_count": 14,
   "id": "2044a6ec-f643-4d6a-9340-05f915f2dc38",
   "metadata": {},
   "outputs": [],
   "source": [
    "dat = pd.DataFrame({\n",
    "    \"cloo\": cloo_k,\n",
    "    \"pb\": pb_k,\n",
    "    \"v\": list(map(voronoi, [[c, p] for c, p in zip(cloo_k, pb_k)])),\n",
    "    \"\": list(map(voronoi_label, [[c, p] for c, p in zip(cloo_k, pb_k)])),\n",
    "})\n",
    "\n",
    "dat.to_feather(f\"{conf.out}/esm{conf.suffix}.feather\")"
   ]
  },
  {
   "cell_type": "code",
   "execution_count": 15,
   "id": "bdec459a-18fb-43bd-a28a-9f2af79cab79",
   "metadata": {},
   "outputs": [
    {
     "data": {
      "image/png": "[encoded data removed]",
      "text/plain": [
       "<Figure size 400x400 with 1 Axes>"
      ]
     },
     "metadata": {},
     "output_type": "display_data"
    }
   ],
   "source": [
    "fig, ax = plt.subplots(figsize=(4, 4))\n",
    "\n",
    "counts = dat.loc[:, ''].value_counts()\n",
    "\n",
    "dat2 = pd.DataFrame({\n",
    "    \"cloo\": dat.cloo,\n",
    "    \"pb\": dat.pb,\n",
    "    \"v\": dat.v,\n",
    "    \"\": [f\"{v} ({counts[v]})\" for v in dat.loc[:, \"\"]]\n",
    "\n",
    "})\n",
    "\n",
    "sns.scatterplot(\n",
    "    dat2.sort_values(\"v\"),\n",
    "    x=\"cloo\", \n",
    "    y=\"pb\", \n",
    "    hue=\"\",\n",
    "    palette=[\".7\", \"C0\", \"C1\", \"C4\"],\n",
    "    s=30, \n",
    "    # linewidth=0\n",
    ")\n",
    "\n",
    "ax.set(\n",
    "    title=\"Simulators generated with ESM4\",\n",
    "    xlabel=\"Aptitude scores for C+LOO designs\", \n",
    "    ylabel=\"Aptitude scores for PB designs\"\n",
    ")\n",
    "\n",
    "# ax.legend(loc=\"center left\", bbox_to_anchor=(1, .5))\n",
    "ax.legend(loc=\"lower right\", fontsize=\"x-small\")\n",
    "\n",
    "if conf.savefig:\n",
    "    fig.savefig(f\"{conf.out}/kappa_scatter{conf.suffix}\", **kwarg_savefig)"
   ]
  },
  {
   "cell_type": "code",
   "execution_count": 16,
   "id": "899079bc-353b-4c22-9968-2d5a723fd0e0",
   "metadata": {},
   "outputs": [
    {
     "data": {
      "text/html": [
       "<div>\n",
       "<style scoped>\n",
       "    .dataframe tbody tr th:only-of-type {\n",
       "        vertical-align: middle;\n",
       "    }\n",
       "\n",
       "    .dataframe tbody tr th {\n",
       "        vertical-align: top;\n",
       "    }\n",
       "\n",
       "    .dataframe thead th {\n",
       "        text-align: right;\n",
       "    }\n",
       "</style>\n",
       "<table border=\"1\" class=\"dataframe\">\n",
       "  <thead>\n",
       "    <tr style=\"text-align: right;\">\n",
       "      <th></th>\n",
       "      <th>cloo</th>\n",
       "      <th>pb</th>\n",
       "      <th>v</th>\n",
       "      <th></th>\n",
       "    </tr>\n",
       "  </thead>\n",
       "  <tbody>\n",
       "    <tr>\n",
       "      <th>0</th>\n",
       "      <td>0.000000</td>\n",
       "      <td>0.000000</td>\n",
       "      <td>0</td>\n",
       "      <td>neither</td>\n",
       "    </tr>\n",
       "    <tr>\n",
       "      <th>1</th>\n",
       "      <td>0.000000</td>\n",
       "      <td>0.000000</td>\n",
       "      <td>0</td>\n",
       "      <td>neither</td>\n",
       "    </tr>\n",
       "    <tr>\n",
       "      <th>2</th>\n",
       "      <td>0.000000</td>\n",
       "      <td>0.000000</td>\n",
       "      <td>0</td>\n",
       "      <td>neither</td>\n",
       "    </tr>\n",
       "    <tr>\n",
       "      <th>3</th>\n",
       "      <td>0.000000</td>\n",
       "      <td>0.000000</td>\n",
       "      <td>0</td>\n",
       "      <td>neither</td>\n",
       "    </tr>\n",
       "    <tr>\n",
       "      <th>4</th>\n",
       "      <td>0.000000</td>\n",
       "      <td>0.000000</td>\n",
       "      <td>0</td>\n",
       "      <td>neither</td>\n",
       "    </tr>\n",
       "    <tr>\n",
       "      <th>...</th>\n",
       "      <td>...</td>\n",
       "      <td>...</td>\n",
       "      <td>...</td>\n",
       "      <td>...</td>\n",
       "    </tr>\n",
       "    <tr>\n",
       "      <th>59044</th>\n",
       "      <td>0.750000</td>\n",
       "      <td>0.750000</td>\n",
       "      <td>3</td>\n",
       "      <td>both</td>\n",
       "    </tr>\n",
       "    <tr>\n",
       "      <th>59045</th>\n",
       "      <td>1.000000</td>\n",
       "      <td>0.750000</td>\n",
       "      <td>1</td>\n",
       "      <td>C+LOO</td>\n",
       "    </tr>\n",
       "    <tr>\n",
       "      <th>59046</th>\n",
       "      <td>0.333333</td>\n",
       "      <td>-0.333333</td>\n",
       "      <td>0</td>\n",
       "      <td>neither</td>\n",
       "    </tr>\n",
       "    <tr>\n",
       "      <th>59047</th>\n",
       "      <td>0.750000</td>\n",
       "      <td>0.750000</td>\n",
       "      <td>3</td>\n",
       "      <td>both</td>\n",
       "    </tr>\n",
       "    <tr>\n",
       "      <th>59048</th>\n",
       "      <td>1.000000</td>\n",
       "      <td>1.000000</td>\n",
       "      <td>3</td>\n",
       "      <td>both</td>\n",
       "    </tr>\n",
       "  </tbody>\n",
       "</table>\n",
       "<p>59049 rows × 4 columns</p>\n",
       "</div>"
      ],
      "text/plain": [
       "           cloo        pb  v         \n",
       "0      0.000000  0.000000  0  neither\n",
       "1      0.000000  0.000000  0  neither\n",
       "2      0.000000  0.000000  0  neither\n",
       "3      0.000000  0.000000  0  neither\n",
       "4      0.000000  0.000000  0  neither\n",
       "...         ...       ... ..      ...\n",
       "59044  0.750000  0.750000  3     both\n",
       "59045  1.000000  0.750000  1    C+LOO\n",
       "59046  0.333333 -0.333333  0  neither\n",
       "59047  0.750000  0.750000  3     both\n",
       "59048  1.000000  1.000000  3     both\n",
       "\n",
       "[59049 rows x 4 columns]"
      ]
     },
     "execution_count": 16,
     "metadata": {},
     "output_type": "execute_result"
    }
   ],
   "source": [
    "dat"
   ]
  },
  {
   "cell_type": "code",
   "execution_count": null,
   "id": "220b6d45-6e46-47fc-af4d-bc18078e94fa",
   "metadata": {},
   "outputs": [],
   "source": []
  }
 ],
 "metadata": {
  "kernelspec": {
   "display_name": "Python 3 (ipykernel)",
   "language": "python",
   "name": "python3"
  },
  "language_info": {
   "codemirror_mode": {
    "name": "ipython",
    "version": 3
   },
   "file_extension": ".py",
   "mimetype": "text/x-python",
   "name": "python",
   "nbconvert_exporter": "python",
   "pygments_lexer": "ipython3",
   "version": "3.10.8"
  }
 },
 "nbformat": 4,
 "nbformat_minor": 5
}
