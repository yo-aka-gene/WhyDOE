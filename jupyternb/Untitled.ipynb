{
 "cells": [
  {
   "cell_type": "code",
   "execution_count": 1,
   "id": "91fcf595-ed9e-41aa-a777-6c438cadccf6",
   "metadata": {},
   "outputs": [],
   "source": [
    "from doe_modules.design import FullFactorial, PlackettBurman, CLOO"
   ]
  },
  {
   "cell_type": "code",
   "execution_count": 2,
   "id": "67de76f6-1f3c-4728-80d4-71798f7ec296",
   "metadata": {},
   "outputs": [],
   "source": [
    "import numpy as np\n",
    "from statsmodels.tools import add_constant"
   ]
  },
  {
   "cell_type": "code",
   "execution_count": 3,
   "id": "e0a54919-920f-4b5a-8cbd-9a633caa2927",
   "metadata": {},
   "outputs": [],
   "source": [
    "X_cloo = add_constant(CLOO().get_exmatrix(9)().values)\n",
    "X_pb = add_constant(PlackettBurman().get_exmatrix(9)().values)\n",
    "X_ff = add_constant(FullFactorial().get_exmatrix(9)().values)\n",
    "\n",
    "\n",
    "X_cloo_int = CLOO().get_exmatrix(9).interactions(2).iloc[:, 9:].values\n",
    "X_pb_int = PlackettBurman().get_exmatrix(9).interactions(2).iloc[:, 9:].values\n",
    "X_ff_int = FullFactorial().get_exmatrix(9).interactions(2).iloc[:, 9:].values"
   ]
  },
  {
   "cell_type": "code",
   "execution_count": 4,
   "id": "5e4d155b-6022-42ed-8ea5-8949aaa09932",
   "metadata": {},
   "outputs": [],
   "source": [
    "P = lambda mat: mat @ np.linalg.inv(mat.T @ mat) @ mat.T"
   ]
  },
  {
   "cell_type": "code",
   "execution_count": 5,
   "id": "7571b594-d5d8-4640-9fd4-29de1933ee6f",
   "metadata": {},
   "outputs": [
    {
     "data": {
      "text/plain": [
       "18.97366596101024"
      ]
     },
     "execution_count": 5,
     "metadata": {},
     "output_type": "execute_result"
    }
   ],
   "source": [
    "np.linalg.norm(P(X_cloo) @ X_cloo_int)"
   ]
  },
  {
   "cell_type": "code",
   "execution_count": 6,
   "id": "8e39f713-23ef-4d9b-ad65-da458ebc35bb",
   "metadata": {},
   "outputs": [
    {
     "data": {
      "text/plain": [
       "18.33030277982336"
      ]
     },
     "execution_count": 6,
     "metadata": {},
     "output_type": "execute_result"
    }
   ],
   "source": [
    "np.linalg.norm(P(X_pb) @ X_pb_int)"
   ]
  },
  {
   "cell_type": "code",
   "execution_count": 7,
   "id": "c5ce259b-1d0a-4a66-ba4d-ba10ac0a8b54",
   "metadata": {},
   "outputs": [
    {
     "data": {
      "text/plain": [
       "0.0"
      ]
     },
     "execution_count": 7,
     "metadata": {},
     "output_type": "execute_result"
    }
   ],
   "source": [
    "np.linalg.norm(P(X_ff) @ X_ff_int)"
   ]
  },
  {
   "cell_type": "code",
   "execution_count": 8,
   "id": "a03bd26a-4f86-422d-9fae-760f2d84c8ac",
   "metadata": {},
   "outputs": [],
   "source": [
    "import matplotlib.pyplot as plt"
   ]
  },
  {
   "cell_type": "code",
   "execution_count": 9,
   "id": "04bd417c-5103-436e-972c-55a9adba5011",
   "metadata": {},
   "outputs": [],
   "source": [
    "def interaction_absorption(design, n_factor, order, n_rep=1):\n",
    "    X = design().get_exmatrix(n_factor)\n",
    "    P = lambda mat: mat @ np.linalg.inv(mat.T @ mat) @ mat.T\n",
    "    PX = P(add_constant(np.vstack([X().values] * n_rep)))\n",
    "    X_int = np.vstack([X.interactions(order).iloc[:, n_factor:].values] * n_rep)\n",
    "    return np.trace(X_int.T @ PX @ X_int) / np.trace(X_int.T @ X_int)"
   ]
  },
  {
   "cell_type": "code",
   "execution_count": 10,
   "id": "fffcef7e-a4ba-4837-9b2e-222a2fc34c9a",
   "metadata": {},
   "outputs": [],
   "source": [
    "def inter1(design, n_factor, order, n_rep=1):\n",
    "    X = design().get_exmatrix(n_factor)\n",
    "    P = lambda mat: mat @ np.linalg.inv(mat.T @ mat) @ mat.T\n",
    "    PX = P(add_constant(np.vstack([X().values] * n_rep)))\n",
    "    X_int = np.vstack([X.interactions(order).iloc[:, n_factor:].values] * n_rep)\n",
    "    return X_int.T @ PX @ X_int\n",
    "\n",
    "\n",
    "# def inter2(design, n_factor, order, n_rep=1):\n",
    "#     X = design().get_exmatrix(n_factor)\n",
    "#     P = lambda mat: mat @ np.linalg.inv(mat.T @ mat) @ mat.T\n",
    "#     PX = P(add_constant(np.vstack([X().values] * n_rep)))\n",
    "#     X_int = np.vstack([X.interactions(order).iloc[:, n_factor:].values] * n_rep)\n",
    "#     return X_int.T @ X_int\n",
    "\n",
    "# def inter3(design, n_factor, order, n_rep=1):\n",
    "#     return inter1(design, n_factor, order, n_rep) / inter2(design, n_factor, order, n_rep)"
   ]
  },
  {
   "cell_type": "code",
   "execution_count": 11,
   "id": "b1945f5a-32d0-4c1e-83fb-9e02404acfe0",
   "metadata": {},
   "outputs": [],
   "source": [
    "n = np.arange(2, 13)\n",
    "\n",
    "abs_cloo = np.vectorize(lambda x: interaction_absorption(CLOO, x, 2))(n)\n",
    "abs_pb = np.vectorize(lambda x: interaction_absorption(PlackettBurman, x, 2))(n)\n",
    "abs_ff = np.vectorize(lambda x: interaction_absorption(FullFactorial, x, 2))(n)"
   ]
  },
  {
   "cell_type": "code",
   "execution_count": 12,
   "id": "9b65be57-fd4d-4b02-b2e6-6c0e3f014d9e",
   "metadata": {},
   "outputs": [
    {
     "data": {
      "text/plain": [
       "[<matplotlib.lines.Line2D at 0x7fcce0978130>]"
      ]
     },
     "execution_count": 12,
     "metadata": {},
     "output_type": "execute_result"
    },
    {
     "data": {
      "image/png": "[encoded data removed]",
      "text/plain": [
       "<Figure size 640x480 with 1 Axes>"
      ]
     },
     "metadata": {},
     "output_type": "display_data"
    }
   ],
   "source": [
    "fig, ax = plt.subplots()\n",
    "\n",
    "ax.plot(n, abs_cloo, marker=\"o\", markersize=10, label=\"C+LOO\", zorder=1)\n",
    "ax.plot(n, abs_pb, marker=\"o\", markersize=10, label=\"PB\", zorder=0)\n",
    "ax.plot(n, abs_ff, marker=\"o\", markersize=10, label=\"FF\", zorder=-1)"
   ]
  },
  {
   "cell_type": "code",
   "execution_count": 13,
   "id": "74e22630-ede0-4e71-bcaf-4c97c1476f13",
   "metadata": {},
   "outputs": [
    {
     "data": {
      "text/plain": [
       "array([1., 1., 1., 1., 1., 1., 1., 1., 1., 1., 1.])"
      ]
     },
     "execution_count": 13,
     "metadata": {},
     "output_type": "execute_result"
    }
   ],
   "source": [
    "abs_cloo"
   ]
  },
  {
   "cell_type": "code",
   "execution_count": 14,
   "id": "23ba4891-d85b-40b8-af7d-d320289d8506",
   "metadata": {},
   "outputs": [
    {
     "data": {
      "text/plain": [
       "0.9999999999999981"
      ]
     },
     "execution_count": 14,
     "metadata": {},
     "output_type": "execute_result"
    }
   ],
   "source": [
    "interaction_absorption(CLOO, 9, 2)"
   ]
  },
  {
   "cell_type": "code",
   "execution_count": 15,
   "id": "b4240c92-dd16-4da7-9a73-bc6b4c3fa86a",
   "metadata": {},
   "outputs": [
    {
     "data": {
      "text/plain": [
       "0.9999999999999981"
      ]
     },
     "execution_count": 15,
     "metadata": {},
     "output_type": "execute_result"
    }
   ],
   "source": [
    "interaction_absorption(CLOO, 9, 2, 2)"
   ]
  },
  {
   "cell_type": "code",
   "execution_count": 16,
   "id": "47800ec6-0af6-44fc-afc3-4fb084301944",
   "metadata": {},
   "outputs": [
    {
     "data": {
      "text/plain": [
       "0.9999999999999836"
      ]
     },
     "execution_count": 16,
     "metadata": {},
     "output_type": "execute_result"
    }
   ],
   "source": [
    "interaction_absorption(CLOO, 9, 2, 3)"
   ]
  },
  {
   "cell_type": "code",
   "execution_count": 17,
   "id": "2f6dbaba-3c73-470d-9362-d08227d720df",
   "metadata": {},
   "outputs": [
    {
     "data": {
      "text/plain": [
       "0.9999999999999981"
      ]
     },
     "execution_count": 17,
     "metadata": {},
     "output_type": "execute_result"
    }
   ],
   "source": [
    "np.trace(X_cloo_int.T @ P(X_cloo) @ X_cloo_int) / np.trace(X_cloo_int.T @ X_cloo_int)"
   ]
  },
  {
   "cell_type": "code",
   "execution_count": 18,
   "id": "0f8a3b89-4c72-411b-b1bc-6888cbd6350f",
   "metadata": {},
   "outputs": [
    {
     "data": {
      "text/plain": [
       "0.7777777777777776"
      ]
     },
     "execution_count": 18,
     "metadata": {},
     "output_type": "execute_result"
    }
   ],
   "source": [
    "np.trace(X_pb_int.T @ P(X_pb) @ X_pb_int) / np.trace(X_pb_int.T @ X_pb_int)"
   ]
  },
  {
   "cell_type": "code",
   "execution_count": 19,
   "id": "d1570729-40d6-474b-ad14-939fad55bc56",
   "metadata": {},
   "outputs": [
    {
     "data": {
      "text/plain": [
       "0.0"
      ]
     },
     "execution_count": 19,
     "metadata": {},
     "output_type": "execute_result"
    }
   ],
   "source": [
    "np.trace(X_ff_int.T @ P(X_ff) @ X_ff_int) / np.trace(X_ff_int.T @ X_ff_int)"
   ]
  },
  {
   "cell_type": "code",
   "execution_count": 20,
   "id": "6f59a493-cbc5-4751-af7a-53c4469f1d68",
   "metadata": {},
   "outputs": [
    {
     "data": {
      "text/plain": [
       "32.86335345030943"
      ]
     },
     "execution_count": 20,
     "metadata": {},
     "output_type": "execute_result"
    }
   ],
   "source": [
    "np.linalg.norm(P(np.vstack([X_cloo] * 3)) @ np.vstack([X_cloo_int] * 3))"
   ]
  },
  {
   "cell_type": "code",
   "execution_count": 21,
   "id": "ff0f8c37-5914-4913-aece-80c7761155bd",
   "metadata": {},
   "outputs": [
    {
     "data": {
      "text/plain": [
       "31.749015732775103"
      ]
     },
     "execution_count": 21,
     "metadata": {},
     "output_type": "execute_result"
    }
   ],
   "source": [
    "np.linalg.norm(P(np.vstack([X_pb] * 3)) @ np.vstack([X_pb_int] * 3))"
   ]
  },
  {
   "cell_type": "code",
   "execution_count": 22,
   "id": "f4cf6a6a-6fec-43de-9c10-921c31a01b6e",
   "metadata": {},
   "outputs": [
    {
     "data": {
      "text/plain": [
       "1.7658252597036073e-14"
      ]
     },
     "execution_count": 22,
     "metadata": {},
     "output_type": "execute_result"
    }
   ],
   "source": [
    "np.linalg.norm(P(np.vstack([X_ff] * 3)) @ np.vstack([X_ff_int] * 3))"
   ]
  },
  {
   "cell_type": "code",
   "execution_count": 23,
   "id": "5bd68fae-25af-4e94-9907-4c32ef979d47",
   "metadata": {},
   "outputs": [
    {
     "data": {
      "text/html": [
       "<div>\n",
       "<style scoped>\n",
       "    .dataframe tbody tr th:only-of-type {\n",
       "        vertical-align: middle;\n",
       "    }\n",
       "\n",
       "    .dataframe tbody tr th {\n",
       "        vertical-align: top;\n",
       "    }\n",
       "\n",
       "    .dataframe thead th {\n",
       "        text-align: right;\n",
       "    }\n",
       "</style>\n",
       "<table border=\"1\" class=\"dataframe\">\n",
       "  <thead>\n",
       "    <tr style=\"text-align: right;\">\n",
       "      <th></th>\n",
       "      <th>X1X2</th>\n",
       "      <th>X1X3</th>\n",
       "      <th>X1X4</th>\n",
       "      <th>X1X5</th>\n",
       "      <th>X1X6</th>\n",
       "      <th>X1X7</th>\n",
       "      <th>X1X8</th>\n",
       "      <th>X1X9</th>\n",
       "      <th>X2X3</th>\n",
       "      <th>X2X4</th>\n",
       "      <th>...</th>\n",
       "      <th>X5X6</th>\n",
       "      <th>X5X7</th>\n",
       "      <th>X5X8</th>\n",
       "      <th>X5X9</th>\n",
       "      <th>X6X7</th>\n",
       "      <th>X6X8</th>\n",
       "      <th>X6X9</th>\n",
       "      <th>X7X8</th>\n",
       "      <th>X7X9</th>\n",
       "      <th>X8X9</th>\n",
       "    </tr>\n",
       "  </thead>\n",
       "  <tbody>\n",
       "    <tr>\n",
       "      <th>#1</th>\n",
       "      <td>1.0</td>\n",
       "      <td>1.0</td>\n",
       "      <td>1.0</td>\n",
       "      <td>1.0</td>\n",
       "      <td>1.0</td>\n",
       "      <td>1.0</td>\n",
       "      <td>1.0</td>\n",
       "      <td>1.0</td>\n",
       "      <td>1.0</td>\n",
       "      <td>1.0</td>\n",
       "      <td>...</td>\n",
       "      <td>1.0</td>\n",
       "      <td>1.0</td>\n",
       "      <td>1.0</td>\n",
       "      <td>1.0</td>\n",
       "      <td>1.0</td>\n",
       "      <td>1.0</td>\n",
       "      <td>1.0</td>\n",
       "      <td>1.0</td>\n",
       "      <td>1.0</td>\n",
       "      <td>1.0</td>\n",
       "    </tr>\n",
       "    <tr>\n",
       "      <th>#2</th>\n",
       "      <td>-1.0</td>\n",
       "      <td>-1.0</td>\n",
       "      <td>-1.0</td>\n",
       "      <td>-1.0</td>\n",
       "      <td>-1.0</td>\n",
       "      <td>-1.0</td>\n",
       "      <td>-1.0</td>\n",
       "      <td>-1.0</td>\n",
       "      <td>1.0</td>\n",
       "      <td>1.0</td>\n",
       "      <td>...</td>\n",
       "      <td>1.0</td>\n",
       "      <td>1.0</td>\n",
       "      <td>1.0</td>\n",
       "      <td>1.0</td>\n",
       "      <td>1.0</td>\n",
       "      <td>1.0</td>\n",
       "      <td>1.0</td>\n",
       "      <td>1.0</td>\n",
       "      <td>1.0</td>\n",
       "      <td>1.0</td>\n",
       "    </tr>\n",
       "    <tr>\n",
       "      <th>#3</th>\n",
       "      <td>-1.0</td>\n",
       "      <td>1.0</td>\n",
       "      <td>1.0</td>\n",
       "      <td>1.0</td>\n",
       "      <td>1.0</td>\n",
       "      <td>1.0</td>\n",
       "      <td>1.0</td>\n",
       "      <td>1.0</td>\n",
       "      <td>-1.0</td>\n",
       "      <td>-1.0</td>\n",
       "      <td>...</td>\n",
       "      <td>1.0</td>\n",
       "      <td>1.0</td>\n",
       "      <td>1.0</td>\n",
       "      <td>1.0</td>\n",
       "      <td>1.0</td>\n",
       "      <td>1.0</td>\n",
       "      <td>1.0</td>\n",
       "      <td>1.0</td>\n",
       "      <td>1.0</td>\n",
       "      <td>1.0</td>\n",
       "    </tr>\n",
       "    <tr>\n",
       "      <th>#4</th>\n",
       "      <td>1.0</td>\n",
       "      <td>-1.0</td>\n",
       "      <td>1.0</td>\n",
       "      <td>1.0</td>\n",
       "      <td>1.0</td>\n",
       "      <td>1.0</td>\n",
       "      <td>1.0</td>\n",
       "      <td>1.0</td>\n",
       "      <td>-1.0</td>\n",
       "      <td>1.0</td>\n",
       "      <td>...</td>\n",
       "      <td>1.0</td>\n",
       "      <td>1.0</td>\n",
       "      <td>1.0</td>\n",
       "      <td>1.0</td>\n",
       "      <td>1.0</td>\n",
       "      <td>1.0</td>\n",
       "      <td>1.0</td>\n",
       "      <td>1.0</td>\n",
       "      <td>1.0</td>\n",
       "      <td>1.0</td>\n",
       "    </tr>\n",
       "    <tr>\n",
       "      <th>#5</th>\n",
       "      <td>1.0</td>\n",
       "      <td>1.0</td>\n",
       "      <td>-1.0</td>\n",
       "      <td>1.0</td>\n",
       "      <td>1.0</td>\n",
       "      <td>1.0</td>\n",
       "      <td>1.0</td>\n",
       "      <td>1.0</td>\n",
       "      <td>1.0</td>\n",
       "      <td>-1.0</td>\n",
       "      <td>...</td>\n",
       "      <td>1.0</td>\n",
       "      <td>1.0</td>\n",
       "      <td>1.0</td>\n",
       "      <td>1.0</td>\n",
       "      <td>1.0</td>\n",
       "      <td>1.0</td>\n",
       "      <td>1.0</td>\n",
       "      <td>1.0</td>\n",
       "      <td>1.0</td>\n",
       "      <td>1.0</td>\n",
       "    </tr>\n",
       "    <tr>\n",
       "      <th>#6</th>\n",
       "      <td>1.0</td>\n",
       "      <td>1.0</td>\n",
       "      <td>1.0</td>\n",
       "      <td>-1.0</td>\n",
       "      <td>1.0</td>\n",
       "      <td>1.0</td>\n",
       "      <td>1.0</td>\n",
       "      <td>1.0</td>\n",
       "      <td>1.0</td>\n",
       "      <td>1.0</td>\n",
       "      <td>...</td>\n",
       "      <td>-1.0</td>\n",
       "      <td>-1.0</td>\n",
       "      <td>-1.0</td>\n",
       "      <td>-1.0</td>\n",
       "      <td>1.0</td>\n",
       "      <td>1.0</td>\n",
       "      <td>1.0</td>\n",
       "      <td>1.0</td>\n",
       "      <td>1.0</td>\n",
       "      <td>1.0</td>\n",
       "    </tr>\n",
       "    <tr>\n",
       "      <th>#7</th>\n",
       "      <td>1.0</td>\n",
       "      <td>1.0</td>\n",
       "      <td>1.0</td>\n",
       "      <td>1.0</td>\n",
       "      <td>-1.0</td>\n",
       "      <td>1.0</td>\n",
       "      <td>1.0</td>\n",
       "      <td>1.0</td>\n",
       "      <td>1.0</td>\n",
       "      <td>1.0</td>\n",
       "      <td>...</td>\n",
       "      <td>-1.0</td>\n",
       "      <td>1.0</td>\n",
       "      <td>1.0</td>\n",
       "      <td>1.0</td>\n",
       "      <td>-1.0</td>\n",
       "      <td>-1.0</td>\n",
       "      <td>-1.0</td>\n",
       "      <td>1.0</td>\n",
       "      <td>1.0</td>\n",
       "      <td>1.0</td>\n",
       "    </tr>\n",
       "    <tr>\n",
       "      <th>#8</th>\n",
       "      <td>1.0</td>\n",
       "      <td>1.0</td>\n",
       "      <td>1.0</td>\n",
       "      <td>1.0</td>\n",
       "      <td>1.0</td>\n",
       "      <td>-1.0</td>\n",
       "      <td>1.0</td>\n",
       "      <td>1.0</td>\n",
       "      <td>1.0</td>\n",
       "      <td>1.0</td>\n",
       "      <td>...</td>\n",
       "      <td>1.0</td>\n",
       "      <td>-1.0</td>\n",
       "      <td>1.0</td>\n",
       "      <td>1.0</td>\n",
       "      <td>-1.0</td>\n",
       "      <td>1.0</td>\n",
       "      <td>1.0</td>\n",
       "      <td>-1.0</td>\n",
       "      <td>-1.0</td>\n",
       "      <td>1.0</td>\n",
       "    </tr>\n",
       "    <tr>\n",
       "      <th>#9</th>\n",
       "      <td>1.0</td>\n",
       "      <td>1.0</td>\n",
       "      <td>1.0</td>\n",
       "      <td>1.0</td>\n",
       "      <td>1.0</td>\n",
       "      <td>1.0</td>\n",
       "      <td>-1.0</td>\n",
       "      <td>1.0</td>\n",
       "      <td>1.0</td>\n",
       "      <td>1.0</td>\n",
       "      <td>...</td>\n",
       "      <td>1.0</td>\n",
       "      <td>1.0</td>\n",
       "      <td>-1.0</td>\n",
       "      <td>1.0</td>\n",
       "      <td>1.0</td>\n",
       "      <td>-1.0</td>\n",
       "      <td>1.0</td>\n",
       "      <td>-1.0</td>\n",
       "      <td>1.0</td>\n",
       "      <td>-1.0</td>\n",
       "    </tr>\n",
       "    <tr>\n",
       "      <th>#10</th>\n",
       "      <td>1.0</td>\n",
       "      <td>1.0</td>\n",
       "      <td>1.0</td>\n",
       "      <td>1.0</td>\n",
       "      <td>1.0</td>\n",
       "      <td>1.0</td>\n",
       "      <td>1.0</td>\n",
       "      <td>-1.0</td>\n",
       "      <td>1.0</td>\n",
       "      <td>1.0</td>\n",
       "      <td>...</td>\n",
       "      <td>1.0</td>\n",
       "      <td>1.0</td>\n",
       "      <td>1.0</td>\n",
       "      <td>-1.0</td>\n",
       "      <td>1.0</td>\n",
       "      <td>1.0</td>\n",
       "      <td>-1.0</td>\n",
       "      <td>1.0</td>\n",
       "      <td>-1.0</td>\n",
       "      <td>-1.0</td>\n",
       "    </tr>\n",
       "  </tbody>\n",
       "</table>\n",
       "<p>10 rows × 36 columns</p>\n",
       "</div>"
      ],
      "text/plain": [
       "     X1X2  X1X3  X1X4  X1X5  X1X6  X1X7  X1X8  X1X9  X2X3  X2X4  ...  X5X6  \\\n",
       "#1    1.0   1.0   1.0   1.0   1.0   1.0   1.0   1.0   1.0   1.0  ...   1.0   \n",
       "#2   -1.0  -1.0  -1.0  -1.0  -1.0  -1.0  -1.0  -1.0   1.0   1.0  ...   1.0   \n",
       "#3   -1.0   1.0   1.0   1.0   1.0   1.0   1.0   1.0  -1.0  -1.0  ...   1.0   \n",
       "#4    1.0  -1.0   1.0   1.0   1.0   1.0   1.0   1.0  -1.0   1.0  ...   1.0   \n",
       "#5    1.0   1.0  -1.0   1.0   1.0   1.0   1.0   1.0   1.0  -1.0  ...   1.0   \n",
       "#6    1.0   1.0   1.0  -1.0   1.0   1.0   1.0   1.0   1.0   1.0  ...  -1.0   \n",
       "#7    1.0   1.0   1.0   1.0  -1.0   1.0   1.0   1.0   1.0   1.0  ...  -1.0   \n",
       "#8    1.0   1.0   1.0   1.0   1.0  -1.0   1.0   1.0   1.0   1.0  ...   1.0   \n",
       "#9    1.0   1.0   1.0   1.0   1.0   1.0  -1.0   1.0   1.0   1.0  ...   1.0   \n",
       "#10   1.0   1.0   1.0   1.0   1.0   1.0   1.0  -1.0   1.0   1.0  ...   1.0   \n",
       "\n",
       "     X5X7  X5X8  X5X9  X6X7  X6X8  X6X9  X7X8  X7X9  X8X9  \n",
       "#1    1.0   1.0   1.0   1.0   1.0   1.0   1.0   1.0   1.0  \n",
       "#2    1.0   1.0   1.0   1.0   1.0   1.0   1.0   1.0   1.0  \n",
       "#3    1.0   1.0   1.0   1.0   1.0   1.0   1.0   1.0   1.0  \n",
       "#4    1.0   1.0   1.0   1.0   1.0   1.0   1.0   1.0   1.0  \n",
       "#5    1.0   1.0   1.0   1.0   1.0   1.0   1.0   1.0   1.0  \n",
       "#6   -1.0  -1.0  -1.0   1.0   1.0   1.0   1.0   1.0   1.0  \n",
       "#7    1.0   1.0   1.0  -1.0  -1.0  -1.0   1.0   1.0   1.0  \n",
       "#8   -1.0   1.0   1.0  -1.0   1.0   1.0  -1.0  -1.0   1.0  \n",
       "#9    1.0  -1.0   1.0   1.0  -1.0   1.0  -1.0   1.0  -1.0  \n",
       "#10   1.0   1.0  -1.0   1.0   1.0  -1.0   1.0  -1.0  -1.0  \n",
       "\n",
       "[10 rows x 36 columns]"
      ]
     },
     "execution_count": 23,
     "metadata": {},
     "output_type": "execute_result"
    }
   ],
   "source": [
    "CLOO().get_exmatrix(9).interactions(2).iloc[:, 9:]"
   ]
  },
  {
   "cell_type": "code",
   "execution_count": 24,
   "id": "5af3526b-f1af-4e65-bfad-569923047bc7",
   "metadata": {},
   "outputs": [],
   "source": [
    "def t2dfi(model_mtx, idx):\n",
    "    ncol = model_mtx.shape[-1]\n",
    "    return np.linalg.matrix_rank(P(model_mtx)) - np.linalg.matrix_rank(P(model_mtx[:, [i for i in np.arange(ncol) if i != idx]]))\n",
    "\n",
    "\n",
    "def t2dfe(model_mtx):\n",
    "    nrow = model_mtx.shape[0]\n",
    "    return np.linalg.matrix_rank(np.eye(nrow)) - np.linalg.matrix_rank(P(model_mtx))\n",
    "\n",
    "def t2dfe2(model_mtx):\n",
    "    nrow = model_mtx.shape[0]\n",
    "    return np.linalg.matrix_rank(np.eye(nrow) - P(model_mtx))"
   ]
  },
  {
   "cell_type": "code",
   "execution_count": 25,
   "id": "e65c3fb1-1bd1-4e31-83ad-578a168f6443",
   "metadata": {},
   "outputs": [
    {
     "data": {
      "text/plain": [
       "1"
      ]
     },
     "execution_count": 25,
     "metadata": {},
     "output_type": "execute_result"
    }
   ],
   "source": [
    "t2dfi(X_cloo, 1)"
   ]
  },
  {
   "cell_type": "code",
   "execution_count": 26,
   "id": "58d39f80-006f-4624-a7d7-16b33b2ac904",
   "metadata": {},
   "outputs": [
    {
     "data": {
      "text/plain": [
       "9"
      ]
     },
     "execution_count": 26,
     "metadata": {},
     "output_type": "execute_result"
    }
   ],
   "source": [
    "t2dfe2(X_cloo)"
   ]
  },
  {
   "cell_type": "code",
   "execution_count": 27,
   "id": "706df7ae-d2db-41b7-b36e-d5559ac50ebe",
   "metadata": {},
   "outputs": [
    {
     "data": {
      "text/plain": [
       "array([ 1., -1.,  1.,  1.,  1.,  1.,  1.,  1.,  1.,  1.])"
      ]
     },
     "execution_count": 27,
     "metadata": {},
     "output_type": "execute_result"
    }
   ],
   "source": [
    "X_cloo[:, 1]"
   ]
  },
  {
   "cell_type": "code",
   "execution_count": 28,
   "id": "d93827e7-4d91-4c78-ab68-c302ebe514a9",
   "metadata": {},
   "outputs": [
    {
     "data": {
      "text/plain": [
       "1"
      ]
     },
     "execution_count": 28,
     "metadata": {},
     "output_type": "execute_result"
    }
   ],
   "source": [
    "np.linalg.matrix_rank(\n",
    "    (np.eye(10) - P(X_cloo[:, [i for i in np.arange(10) if i != 1]])) @ X_cloo[:, 1].reshape(-1, 1)\n",
    ")"
   ]
  },
  {
   "cell_type": "code",
   "execution_count": 29,
   "id": "18e6b1f6-4e44-488a-b4a4-f1abde7ea328",
   "metadata": {},
   "outputs": [
    {
     "data": {
      "text/plain": [
       "1"
      ]
     },
     "execution_count": 29,
     "metadata": {},
     "output_type": "execute_result"
    }
   ],
   "source": [
    "np.linalg.matrix_rank(\n",
    "    (np.eye(10) - P(X_cloo[:, [i for i in np.arange(10) if i != 1]])) @ X_cloo[:, 1].reshape(-1, 1)\n",
    ")"
   ]
  },
  {
   "cell_type": "code",
   "execution_count": 30,
   "id": "899ba751-4355-415c-a1b4-3fd0198f6348",
   "metadata": {},
   "outputs": [
    {
     "data": {
      "text/plain": [
       "1"
      ]
     },
     "execution_count": 30,
     "metadata": {},
     "output_type": "execute_result"
    }
   ],
   "source": [
    "np.linalg.matrix_rank(P(X_cloo)) - np.linalg.matrix_rank(P(X_cloo[:, [i for i in np.arange(10) if i != 1]]))"
   ]
  },
  {
   "cell_type": "code",
   "execution_count": 31,
   "id": "3541681a-efc5-405a-9c82-aad10ff04a10",
   "metadata": {},
   "outputs": [
    {
     "data": {
      "text/plain": [
       "3"
      ]
     },
     "execution_count": 31,
     "metadata": {},
     "output_type": "execute_result"
    }
   ],
   "source": [
    "np.linalg.matrix_rank(P(X_cloo) - P(X_cloo[:, [i for i in np.arange(10) if i != 1]]))"
   ]
  },
  {
   "cell_type": "code",
   "execution_count": 32,
   "id": "c072b4fa-49d3-4428-8ebf-4c8b7eb78605",
   "metadata": {},
   "outputs": [
    {
     "data": {
      "text/plain": [
       "array([[ 5.00000000e-01, -5.00000000e-01,  7.77156117e-16,\n",
       "         7.77156117e-16,  7.77156117e-16,  9.99200722e-16,\n",
       "        -3.33066907e-16, -1.11022302e-16,  1.38777878e-15,\n",
       "         1.60982339e-15],\n",
       "       [-5.00000000e-01,  5.00000000e-01, -3.55271368e-15,\n",
       "        -4.10782519e-15, -1.77635684e-15, -1.66533454e-15,\n",
       "        -2.66453526e-15, -1.99840144e-15, -1.05471187e-15,\n",
       "        -8.32667268e-16],\n",
       "       [ 5.55111512e-17,  9.43689571e-16, -9.99200722e-16,\n",
       "        -1.22124533e-15,  5.55111512e-16,  6.66133815e-16,\n",
       "        -6.66133815e-16,  2.22044605e-16,  1.11022302e-15,\n",
       "         1.60982339e-15],\n",
       "       [-2.69229083e-15, -2.69229083e-15, -3.24740235e-15,\n",
       "        -3.10862447e-15, -2.19269047e-15, -2.08166817e-15,\n",
       "        -3.41393580e-15, -2.96984659e-15, -1.63757896e-15,\n",
       "        -2.02615702e-15],\n",
       "       [ 1.55431223e-15,  2.44249065e-15,  1.88737914e-15,\n",
       "         2.10942375e-15,  2.88657986e-15,  2.60902411e-15,\n",
       "         2.38697950e-15,  2.60902411e-15,  3.49720253e-15,\n",
       "         3.33066907e-15],\n",
       "       [ 9.71445147e-16,  1.85962357e-15,  9.71445147e-16,\n",
       "         8.60422844e-16,  2.30371278e-15,  2.55351296e-15,\n",
       "         1.36002321e-15,  1.58206781e-15,  2.47024623e-15,\n",
       "         2.30371278e-15],\n",
       "       [ 1.27675648e-15,  2.16493490e-15,  1.27675648e-15,\n",
       "         1.38777878e-15,  2.60902411e-15,  2.38697950e-15,\n",
       "         1.44328993e-15,  1.44328993e-15,  2.77555756e-15,\n",
       "         3.05311332e-15],\n",
       "       [ 8.04911693e-16,  1.47104551e-15,  5.82867088e-16,\n",
       "         8.04911693e-16,  2.13717932e-15,  1.91513472e-15,\n",
       "         8.04911693e-16,  1.55431223e-15,  2.74780199e-15,\n",
       "         3.02535774e-15],\n",
       "       [ 2.99760217e-15,  2.55351296e-15,  1.66533454e-15,\n",
       "         1.66533454e-15,  3.21964677e-15,  2.88657986e-15,\n",
       "         2.10942375e-15,  1.99840144e-15,  3.21964677e-15,\n",
       "         3.44169138e-15],\n",
       "       [ 1.99840144e-15,  1.55431223e-15,  1.11022302e-15,\n",
       "         1.33226763e-15,  2.55351296e-15,  2.22044605e-15,\n",
       "         1.44328993e-15,  1.55431223e-15,  3.33066907e-15,\n",
       "         3.33066907e-15]])"
      ]
     },
     "execution_count": 32,
     "metadata": {},
     "output_type": "execute_result"
    }
   ],
   "source": [
    "P(X_cloo) - P(X_cloo[:, [i for i in np.arange(10) if i != 1]])"
   ]
  },
  {
   "cell_type": "code",
   "execution_count": 33,
   "id": "720ed9b1-7e07-4653-944b-dffc61f2a207",
   "metadata": {},
   "outputs": [
    {
     "data": {
      "text/plain": [
       "array([[False, False, False, False, False, False, False, False, False,\n",
       "        False],\n",
       "       [False, False, False, False, False, False, False, False, False,\n",
       "        False],\n",
       "       [False, False, False, False, False, False, False, False, False,\n",
       "        False],\n",
       "       [False, False, False, False, False, False, False, False, False,\n",
       "        False],\n",
       "       [False, False, False, False, False, False, False, False, False,\n",
       "        False],\n",
       "       [False, False, False, False, False, False, False, False, False,\n",
       "        False],\n",
       "       [False, False, False, False, False, False, False, False, False,\n",
       "        False],\n",
       "       [False, False, False, False, False, False, False, False, False,\n",
       "        False],\n",
       "       [False, False, False, False, False, False, False, False, False,\n",
       "        False],\n",
       "       [False, False, False, False, False, False, False, False, False,\n",
       "        False]])"
      ]
     },
     "execution_count": 33,
     "metadata": {},
     "output_type": "execute_result"
    }
   ],
   "source": [
    "Pr = P(X_cloo[:, [i for i in np.arange(10) if i != 1]])\n",
    "Mr = np.eye(10) - Pr\n",
    "Xa = X_cloo[:, 1].reshape(-1, 1)\n",
    "\n",
    "P(Mr @ Xa) == P(X_cloo) - P(X_cloo[:, [i for i in np.arange(10) if i != 1]])"
   ]
  },
  {
   "cell_type": "code",
   "execution_count": 34,
   "id": "127c9804-c0cf-4156-8b53-cd12b1a33435",
   "metadata": {},
   "outputs": [
    {
     "data": {
      "text/plain": [
       "array([[ 0.18803132],\n",
       "       [-1.50538056],\n",
       "       [ 1.00683756],\n",
       "       [ 2.6288954 ],\n",
       "       [-0.37344244],\n",
       "       [ 0.840924  ],\n",
       "       [ 0.37280116],\n",
       "       [-0.27012791],\n",
       "       [ 2.47035905],\n",
       "       [ 0.11907046]])"
      ]
     },
     "execution_count": 34,
     "metadata": {},
     "output_type": "execute_result"
    }
   ],
   "source": [
    "hoge = np.random.randn(10).reshape(-1, 1)\n",
    "hoge"
   ]
  },
  {
   "cell_type": "code",
   "execution_count": 35,
   "id": "140f3116-dd88-4514-9a7a-2beb31218d81",
   "metadata": {},
   "outputs": [
    {
     "data": {
      "text/plain": [
       "10"
      ]
     },
     "execution_count": 35,
     "metadata": {},
     "output_type": "execute_result"
    }
   ],
   "source": [
    "np.linalg.matrix_rank(P(X_cloo))"
   ]
  },
  {
   "cell_type": "code",
   "execution_count": 36,
   "id": "914eec38-c29e-47d6-9ba4-9de80b03e6ca",
   "metadata": {},
   "outputs": [
    {
     "data": {
      "text/plain": [
       "10"
      ]
     },
     "execution_count": 36,
     "metadata": {},
     "output_type": "execute_result"
    }
   ],
   "source": [
    "np.linalg.matrix_rank(P(np.vstack([X_cloo] * 3)))"
   ]
  },
  {
   "cell_type": "code",
   "execution_count": 37,
   "id": "db9117f8-3b0f-4bd8-829a-6b9149d3ee15",
   "metadata": {},
   "outputs": [
    {
     "data": {
      "text/plain": [
       "(30, 30)"
      ]
     },
     "execution_count": 37,
     "metadata": {},
     "output_type": "execute_result"
    }
   ],
   "source": [
    "P(np.vstack([X_cloo] * 3)).shape"
   ]
  },
  {
   "cell_type": "code",
   "execution_count": 38,
   "id": "158fc560-e5b4-4cb9-96b2-0757546f3ff0",
   "metadata": {},
   "outputs": [
    {
     "data": {
      "text/plain": [
       "(10, 10)"
      ]
     },
     "execution_count": 38,
     "metadata": {},
     "output_type": "execute_result"
    }
   ],
   "source": [
    "P(X_cloo).shape"
   ]
  },
  {
   "cell_type": "code",
   "execution_count": 39,
   "id": "f3b9f37b-7739-4017-9a86-41265a71923a",
   "metadata": {},
   "outputs": [
    {
     "data": {
      "text/plain": [
       "1"
      ]
     },
     "execution_count": 39,
     "metadata": {},
     "output_type": "execute_result"
    }
   ],
   "source": [
    "t2dfi(np.vstack([X_cloo] * 3), 1)"
   ]
  },
  {
   "cell_type": "code",
   "execution_count": 40,
   "id": "cb818f75-2714-49da-baa9-1187b8a8d5d4",
   "metadata": {},
   "outputs": [
    {
     "data": {
      "text/plain": [
       "20"
      ]
     },
     "execution_count": 40,
     "metadata": {},
     "output_type": "execute_result"
    }
   ],
   "source": [
    "t2dfe(np.vstack([X_cloo] * 3))"
   ]
  },
  {
   "cell_type": "code",
   "execution_count": 41,
   "id": "748b14b3-f5f4-457e-bee7-417a9750aeac",
   "metadata": {},
   "outputs": [
    {
     "data": {
      "text/plain": [
       "0"
      ]
     },
     "execution_count": 41,
     "metadata": {},
     "output_type": "execute_result"
    }
   ],
   "source": [
    "t2dfe(X_cloo)"
   ]
  },
  {
   "cell_type": "code",
   "execution_count": 42,
   "id": "e604c360-6f65-45f4-b00e-05c90d70d651",
   "metadata": {},
   "outputs": [],
   "source": [
    "def t2P(model_mtx, idx):\n",
    "    ncol = model_mtx.shape[-1]\n",
    "    return P(model_mtx) - P(model_mtx[:, [i for i in np.arange(ncol) if i != idx]])"
   ]
  },
  {
   "cell_type": "code",
   "execution_count": 43,
   "id": "b7a68755-30a1-413c-b677-eb513c59f557",
   "metadata": {},
   "outputs": [
    {
     "data": {
      "text/plain": [
       "1"
      ]
     },
     "execution_count": 43,
     "metadata": {},
     "output_type": "execute_result"
    }
   ],
   "source": [
    "np.linalg.matrix_rank(P(X_cloo)) - np.linalg.matrix_rank(P(X_cloo[:, [i for i in np.arange(9 + 1) if i != 1]]))"
   ]
  },
  {
   "cell_type": "code",
   "execution_count": 44,
   "id": "8f255d2d-9adc-43da-b539-6d1e7ee6d0a2",
   "metadata": {},
   "outputs": [
    {
     "data": {
      "text/plain": [
       "0"
      ]
     },
     "execution_count": 44,
     "metadata": {},
     "output_type": "execute_result"
    }
   ],
   "source": [
    "np.linalg.matrix_rank(np.eye(*P(X_cloo).shape)) - np.linalg.matrix_rank(P(X_cloo))"
   ]
  },
  {
   "cell_type": "code",
   "execution_count": 45,
   "id": "38322242-c1de-4756-947e-1cff4eeffa7c",
   "metadata": {},
   "outputs": [
    {
     "data": {
      "text/plain": [
       "3"
      ]
     },
     "execution_count": 45,
     "metadata": {},
     "output_type": "execute_result"
    }
   ],
   "source": [
    "np.linalg.matrix_rank(t2P(X_cloo, 1))"
   ]
  },
  {
   "cell_type": "code",
   "execution_count": 46,
   "id": "c0333471-ef8b-493c-8b36-9e6f9a58955c",
   "metadata": {},
   "outputs": [
    {
     "data": {
      "text/plain": [
       "10"
      ]
     },
     "execution_count": 46,
     "metadata": {},
     "output_type": "execute_result"
    }
   ],
   "source": [
    "np.linalg.matrix_rank(1 - P(X_cloo))"
   ]
  },
  {
   "cell_type": "code",
   "execution_count": 47,
   "id": "05ef81e3-7311-4ae6-99d2-98a79c3d6138",
   "metadata": {},
   "outputs": [
    {
     "data": {
      "text/plain": [
       "[array([1, 2, 3, 4, 5, 6, 7, 8, 9])]"
      ]
     },
     "execution_count": 47,
     "metadata": {},
     "output_type": "execute_result"
    }
   ],
   "source": [
    "[np.arange(1, 9 + 1)]"
   ]
  },
  {
   "cell_type": "code",
   "execution_count": 48,
   "id": "e2fdbe97-5bdc-4e0d-8625-f4369aeb58ce",
   "metadata": {},
   "outputs": [
    {
     "data": {
      "text/plain": [
       "True"
      ]
     },
     "execution_count": 48,
     "metadata": {},
     "output_type": "execute_result"
    }
   ],
   "source": [
    "(X_cloo[:, 0] == 1).all()"
   ]
  },
  {
   "cell_type": "code",
   "execution_count": 49,
   "id": "d92e038d-1385-4bbf-9c84-23536cf0ae3a",
   "metadata": {},
   "outputs": [],
   "source": [
    "from doe_modules.simulation import Sim1, MLR, Test4, Circuit, Sparse, TheoreticalEffects"
   ]
  },
  {
   "cell_type": "code",
   "execution_count": 50,
   "id": "06553bc5-7be5-4785-960c-b5462f029ed1",
   "metadata": {},
   "outputs": [],
   "source": [
    "# model = Sim1()\n",
    "model = Circuit()\n",
    "# model = Test4(edge_assignsment=np.ones(10))\n",
    "model.simulate(design=FullFactorial)"
   ]
  },
  {
   "cell_type": "code",
   "execution_count": 51,
   "id": "20f7db84-f3bf-4383-864a-4ee86f1f24fb",
   "metadata": {},
   "outputs": [
    {
     "data": {
      "image/png": "[encoded data removed]",
      "text/plain": [
       "<Figure size 640x480 with 1 Axes>"
      ]
     },
     "metadata": {},
     "output_type": "display_data"
    }
   ],
   "source": [
    "fig, ax = plt.subplots()\n",
    "\n",
    "model.simulate(design=FullFactorial, n_rep=1)\n",
    "ff_mlr = MLR(model, interactions=True)\n",
    "ff_mlr.plot(anova=True, jitter_ratio=.05, ax=ax, show_interactions=False)"
   ]
  },
  {
   "cell_type": "markdown",
   "id": "a116068a-28f7-4f5e-ab29-57466330494b",
   "metadata": {},
   "source": [
    "from itertools import combinations\n",
    "import numpy as np\n",
    "import pandas as pd\n",
    "from scipy.stats import bootstrap\n",
    "\n",
    "def theoretical_effects(\n",
    "    model, \n",
    "    interactions: bool = False,\n",
    "    order: int = np.inf,\n",
    "    random_state: int = 0,\n",
    "    n_rep: int = 10,\n",
    "    model_kwargs: dict = {},\n",
    "):\n",
    "    np.random.seed(random_state)\n",
    "    seeds = np.random.randint(0, 2**32, n_rep)\n",
    "    effects = []\n",
    "    order = min(order, model.n_factor)\n",
    "    for s in seeds:\n",
    "        model.simulate(\n",
    "            design=FullFactorial, n_rep=1, random_state=s, \n",
    "            model_kwargs=model_kwargs\n",
    "        )\n",
    "        mat = model.exmatrix.values\n",
    "        y = model.exresult\n",
    "        effects += [(mat[:, idx] * y).mean() for idx in np.arange(model.n_factor)]\n",
    "        \n",
    "        if interactions:\n",
    "            def prod(*idxs):\n",
    "                ret = 1\n",
    "                for i in idxs:\n",
    "                    ret *= mat[:, i]\n",
    "                return ret\n",
    "            for n_i in np.arange(2, order + 1):\n",
    "                effects += [\n",
    "                    (prod(*idxs) * y).mean() \n",
    "                    for idxs in combinations(np.arange(model.n_factor), n_i)\n",
    "                ]\n",
    "                \n",
    "    term_names = eval(f\"FullFactorial().get_exmatrix(model.n_factor){'.interactions(order)' if interactions else '()'}\")\n",
    "    \n",
    "    return pd.DataFrame({\n",
    "        \"Coefficient\": effects,\n",
    "        \"term\": term_names.columns.tolist() * n_rep\n",
    "    })\n",
    "\n",
    "def theoretical_effects_encoder(\n",
    "    model, \n",
    "    interactions: bool = False,\n",
    "    order: int = np.inf,\n",
    "    random_state: int = 0,\n",
    "    n_rep: int = 10,\n",
    "    model_kwargs: dict = {},\n",
    "    dtype: type = str,\n",
    "    kwarg_bootstrap: dict = dict(\n",
    "        statistic=np.mean, \n",
    "        n_resamples=9999, \n",
    "        confidence_level=0.95,\n",
    "        random_state=np.random.default_rng()\n",
    "    )\n",
    "): \n",
    "    data = theoretical_effects(\n",
    "        model=model, \n",
    "        interactions=interactions, \n",
    "        order=min(order, model.n_factor), \n",
    "        random_state=random_state,\n",
    "        n_rep=n_rep,\n",
    "        model_kwargs=model_kwargs\n",
    "    )\n",
    "    \n",
    "    def identifier(bootstrap_result):\n",
    "        ci = np.array([\n",
    "            bootstrap_result.confidence_interval[0],\n",
    "            bootstrap_result.confidence_interval[1]\n",
    "        ])\n",
    "        id_idx = np.sum([int((ci > 0)[1]), int((ci > 0).all())]) - 1\n",
    "        return [\"N.S.\", \"Up\", \"Down\"][id_idx] if dtype == str else dtype(id_idx)\n",
    "    \n",
    "    return pd.DataFrame(\n",
    "        [\n",
    "            identifier(bootstrap(\n",
    "                (data[data.term == factor].Coefficient.values, ),\n",
    "                **kwarg_bootstrap\n",
    "            )) for factor in data.term.unique()\n",
    "        ],\n",
    "        index=data.term.unique()\n",
    "    )\n",
    "\n",
    "def plot_theoretical_effects(\n",
    "    model, \n",
    "    ax: plt.Axes = None,\n",
    "    cmap: list = None,\n",
    "    interactions: bool = False,\n",
    "    order: int = np.inf,\n",
    "    random_state: int = 0,\n",
    "    n_rep: int = 10,\n",
    "    model_kwargs: dict = {},\n",
    "    kwarg_bootstrap: dict = dict(\n",
    "        statistic=np.mean, \n",
    "        n_resamples=9999, \n",
    "        confidence_level=0.95,\n",
    "        random_state=np.random.default_rng()\n",
    "    ), \n",
    "    jitter_ratio: float = .025, \n",
    "    **kwargs\n",
    "):\n",
    "    order = min(order, model.n_factor)\n",
    "    data = theoretical_effects(\n",
    "        model=model, \n",
    "        interactions=interactions, \n",
    "        order=order, \n",
    "        random_state=random_state,\n",
    "        n_rep=n_rep,\n",
    "        model_kwargs=model_kwargs\n",
    "    )\n",
    "    signs = theoretical_effects_encoder(\n",
    "        model=model, \n",
    "        interactions=interactions,\n",
    "        order=order, \n",
    "        random_state=random_state,\n",
    "        n_rep=n_rep,\n",
    "        dtype=int,\n",
    "        model_kwargs=model_kwargs,\n",
    "        kwarg_bootstrap=kwarg_bootstrap\n",
    "    ).values.ravel()\n",
    "    _, ax = plt.subplots() if ax is None else None, ax\n",
    "    \n",
    "    sns.barplot(\n",
    "        data=data, x=\"Coefficient\", y=\"term\", ax=ax,\n",
    "        palette=model.cmap if cmap is None else cmap, \n",
    "        edgecolor=model.cmap if cmap is None else cmap,\n",
    "        alpha=.5,\n",
    "        n_boot=kwarg_bootstrap[\"n_resamples\"],\n",
    "        **kwargs\n",
    "    )\n",
    "    \n",
    "    xlims = np.array(ax.get_xlim())\n",
    "    coef = data.groupby(\"term\").mean().values.ravel()\n",
    "    \n",
    "    for i, v in enumerate(signs):\n",
    "        sign = lambda z: int(z / abs(z))\n",
    "        jitter = np.diff(xlims) * jitter_ratio\n",
    "        jitter *= (2 * np.abs(v) - 1) * sign(coef[i])\n",
    "        x = coef[i] + jitter\n",
    "        ax.text(\n",
    "            x, i,\n",
    "            [\"N.S.\", \"Up\", \"Down\"][v], \n",
    "            va=\"center\", \n",
    "            ha=[\"_\", \"left\", \"right\"][sign(x)],\n",
    "            size=8\n",
    "        )"
   ]
  },
  {
   "cell_type": "code",
   "execution_count": 52,
   "id": "50742d53-9c29-4653-ba81-131556abf647",
   "metadata": {},
   "outputs": [],
   "source": [
    "from doe_modules.preferences import kwarg_err"
   ]
  },
  {
   "cell_type": "code",
   "execution_count": 53,
   "id": "887f9426-c5aa-41f7-9334-377676a13b57",
   "metadata": {},
   "outputs": [
    {
     "data": {
      "image/png": "[encoded data removed]",
      "text/plain": [
       "<Figure size 1000x300 with 3 Axes>"
      ]
     },
     "metadata": {},
     "output_type": "display_data"
    }
   ],
   "source": [
    "fig, ax = plt.subplots(1, 3, figsize=(10, 3))\n",
    "\n",
    "model = [Sim1, Circuit, Sparse][-1]()\n",
    "# jitter_ratio=.04\n",
    "\n",
    "for sigma, a in zip([.5, 1, 2], ax.ravel()):\n",
    "    theoretical = TheoreticalEffects(simulation=model)\n",
    "    theoretical.plot(ax=a, jitter_ratio=.04, xscales=np.array([1.8, 1.1]), **kwarg_err)\n",
    "\n",
    "    a.set(ylabel=\"\", title=\"$\\sigma=\" + f\"{sigma}\" + \"$\")\n",
    "    # a.set_xlim(np.array(a.get_xlim()) * np.array([(1 + jitter_ratio * 20), (1 + jitter_ratio * 2)]))"
   ]
  },
  {
   "cell_type": "code",
   "execution_count": 54,
   "id": "66e149cf-c094-4293-81b0-933d92f2d57c",
   "metadata": {},
   "outputs": [],
   "source": [
    "import seaborn as sns"
   ]
  },
  {
   "cell_type": "code",
   "execution_count": 55,
   "id": "c07374d1-2387-410c-8b27-086a422e059d",
   "metadata": {},
   "outputs": [
    {
     "data": {
      "image/png": "[encoded data removed]",
      "text/plain": [
       "<Figure size 1200x1200 with 9 Axes>"
      ]
     },
     "metadata": {},
     "output_type": "display_data"
    }
   ],
   "source": [
    "fig, ax = plt.subplots(3, 3, figsize=(12, 12))\n",
    "plt.subplots_adjust(hspace=.3)\n",
    "\n",
    "theoretical = TheoreticalEffects(simulation=model, interactions=True, order=2)\n",
    "\n",
    "for i, a in enumerate(ax.ravel()):\n",
    "    cmap=model.cmap.copy()\n",
    "    theoretical.plot(\n",
    "        ax=a, cmap=[cmap.pop(i)]+cmap, regex=f\"X{i + 1}\", \n",
    "        jitter_ratio=.06, xscales=np.array([1.8, 1.1]), \n",
    "        **kwarg_err\n",
    "    )\n",
    "    a.set_title(f\"X{i + 1}\")\n",
    "\n",
    "common_xlim = np.abs(\n",
    "    np.array([a.get_xlim() for a in ax.ravel()])\n",
    ").max(axis=0) * np.array([-1, 1])\n",
    "\n",
    "[a.set_xlim(common_xlim) for a in ax.ravel()];\n",
    "\n",
    "# fig.suptitle(\n",
    "#     f\"{model.metadata['design']}-based second-order model for {model.name} (N={model.metadata['n_rep']})\", \n",
    "#     y=.93\n",
    "# );\n",
    "\n",
    "# if conf.savefig:\n",
    "#     fig.savefig(f\"{conf.out}/ff_sim_mlr_all{conf.suffix}\", **kwarg_savefig)"
   ]
  },
  {
   "cell_type": "code",
   "execution_count": 141,
   "id": "cd76cb85-4649-435e-9d7f-c33c25daf2d6",
   "metadata": {},
   "outputs": [],
   "source": [
    "import statsmodels.api as sm"
   ]
  },
  {
   "cell_type": "code",
   "execution_count": 234,
   "id": "9b9bfe28-4ef6-4b99-bf8e-9615a0146331",
   "metadata": {},
   "outputs": [],
   "source": [
    "X = lambda m: sm.add_constant(m.exmatrix.values)\n",
    "Y = lambda m: m.exresult.reshape(-1, 1)\n",
    "\n",
    "P = lambda x: x @ np.linalg.inv(x.T @ x) @ x.T\n",
    "\n",
    "Xi = lambda m, i: m.exmatrix.values[:, i].reshape(-1, 1)\n",
    "Xr = lambda m, i: sm.add_constant(m.exmatrix.values[:, [idx for idx in range(m.n_factor) if idx != i]])\n",
    "\n",
    "Qr = lambda m, i: np.eye(len(X(m))) - P(Xr(m, i))\n",
    "\n",
    "phi_i = lambda m, i: np.linalg.matrix_rank(Qr(m, i) @ Xi(m, i))\n",
    "SSi = lambda m, i: Y(m).T @ P(Qr(m, i) @ Xi(m, i)) @ Y(m)\n",
    "\n",
    "phi_e = lambda m: len(X(m)) - np.linalg.matrix_rank(X(m))\n",
    "SSe = lambda m: Y(m).T @ (np.eye(len(X(m))) - P(X(m))) @ Y(m)\n",
    "sigma2 = lambda m: SSe(m) / phi_e(m)\n",
    "\n",
    "norm2 = lambda vec: vec.T @ vec\n",
    "\n",
    "beta = lambda x, y: np.linalg.inv(x.T @ x) @ x.T @ y\n",
    "\n",
    "lambda_i = lambda m, i: norm2(Qr(m, i) @ Xi(m, i) @ beta(Xi(m, i), Y(m))) / sigma2(m)\n",
    "\n",
    "Fi = lambda m, i: (SSi(m, i) / phi_i(m, i)) / sigma2(m)\n",
    "\n",
    "\n",
    "from scipy.stats import f, ncf\n",
    "\n",
    "power = lambda m, i: ncf.sf(\n",
    "    x=f.isf(q=0.05, dfn=phi_i(m, i), dfd=phi_e(m)),\n",
    "    dfn=phi_i(m, i), dfd=phi_e(m),\n",
    "    nc=lambda_i(m, i)\n",
    ")"
   ]
  },
  {
   "cell_type": "code",
   "execution_count": 293,
   "id": "76abfcc4-fad0-4d87-9f84-d9c0cae16ec2",
   "metadata": {},
   "outputs": [],
   "source": [
    "# model = Sim1()\n",
    "model = [Sim1, Circuit, Sparse][2]()\n",
    "# model = Test4(edge_assignsment=np.ones(10))\n",
    "model.simulate(\n",
    "    design=[CLOO, PlackettBurman, FullFactorial][0],\n",
    "    n_rep=10\n",
    ")"
   ]
  },
  {
   "cell_type": "code",
   "execution_count": 294,
   "id": "322cf768-3dbc-44e4-9cc1-7da227031b96",
   "metadata": {},
   "outputs": [
    {
     "data": {
      "text/plain": [
       "<AxesSubplot: >"
      ]
     },
     "execution_count": 294,
     "metadata": {},
     "output_type": "execute_result"
    },
    {
     "data": {
      "image/png": "[encoded data removed]",
      "text/plain": [
       "<Figure size 1200x300 with 3 Axes>"
      ]
     },
     "metadata": {},
     "output_type": "display_data"
    }
   ],
   "source": [
    "fig, ax = plt.subplots(1, 3, figsize=(12, 3))\n",
    "\n",
    "mlr = MLR(model)\n",
    "mlr.plot(anova=True, jitter_ratio=.05, ax=ax[0])\n",
    "\n",
    "# sns.barplot(\n",
    "#     data=ff_anova_power(model, mlr),\n",
    "#     y=model.metadata[\"factor_list\"],\n",
    "#     x=\"power\", ax=ax[1]\n",
    "# )\n",
    "\n",
    "sns.barplot(\n",
    "    x=np.vectorize(lambda i: power(model, i))(np.arange(9)),\n",
    "    y=model.metadata[\"factor_list\"], ax=ax[-1], palette=model.cmap\n",
    ")"
   ]
  },
  {
   "cell_type": "code",
   "execution_count": 288,
   "id": "decd0942-734c-4732-9252-e2ec3081c57d",
   "metadata": {},
   "outputs": [
    {
     "data": {
      "text/plain": [
       "0.04999999999999998"
      ]
     },
     "execution_count": 288,
     "metadata": {},
     "output_type": "execute_result"
    }
   ],
   "source": [
    "f.sf(\n",
    "    x=f.isf(q=0.05, dfn=phi_i(model, 0), dfd=phi_e(model)),\n",
    "    dfn=phi_i(model, 0), dfd=phi_e(model)\n",
    ")"
   ]
  },
  {
   "cell_type": "code",
   "execution_count": 210,
   "id": "6eed02a9-7ab9-41cb-9976-1f35a852ae10",
   "metadata": {},
   "outputs": [
    {
     "data": {
      "text/plain": [
       "array([29.34615978, 18.58984594, 62.13350466, 77.66082552, 76.43721154,\n",
       "       78.14801368, 78.12880454, 34.70637917, 37.24990153])"
      ]
     },
     "execution_count": 210,
     "metadata": {},
     "output_type": "execute_result"
    }
   ],
   "source": [
    "np.vectorize(lambda i: lambda_i(model, i))(np.arange(9))"
   ]
  },
  {
   "cell_type": "code",
   "execution_count": 221,
   "id": "6fc11b54-54d9-469e-9858-5d3208e43899",
   "metadata": {},
   "outputs": [
    {
     "data": {
      "text/plain": [
       "array([1.50068770e+00, 1.59126290e+01, 2.43853511e+01, 5.27554595e+01,\n",
       "       5.02545554e+01, 5.37625020e+01, 5.37226752e+01, 1.60156037e-03,\n",
       "       2.40222300e-01])"
      ]
     },
     "execution_count": 221,
     "metadata": {},
     "output_type": "execute_result"
    }
   ],
   "source": [
    "np.vectorize(lambda i: Fi(model, i))(np.arange(9))"
   ]
  },
  {
   "cell_type": "code",
   "execution_count": 211,
   "id": "71b33057-921f-49bb-8120-4c9451d078cb",
   "metadata": {},
   "outputs": [
    {
     "data": {
      "text/plain": [
       "array([[29.34615978]])"
      ]
     },
     "execution_count": 211,
     "metadata": {},
     "output_type": "execute_result"
    }
   ],
   "source": [
    "lambda_i(model, 0)"
   ]
  },
  {
   "cell_type": "code",
   "execution_count": 212,
   "id": "436b5a4e-77b5-43df-8a24-12d7ecbb3367",
   "metadata": {},
   "outputs": [
    {
     "data": {
      "text/plain": [
       "array([[35228.1857085]])"
      ]
     },
     "execution_count": 212,
     "metadata": {},
     "output_type": "execute_result"
    }
   ],
   "source": [
    "SSe(model) / phi_e(model)"
   ]
  },
  {
   "cell_type": "code",
   "execution_count": 213,
   "id": "036c32ad-d59f-41ff-8c28-591dd5c5ce6c",
   "metadata": {},
   "outputs": [
    {
     "data": {
      "text/plain": [
       "array([[29.34615978]])"
      ]
     },
     "execution_count": 213,
     "metadata": {},
     "output_type": "execute_result"
    }
   ],
   "source": [
    "norm2(Qr(model, 0) @ Xi(model, 0) @ beta(Xi(model, 0), Y(model))) / (SSe(model) / phi_e(model))"
   ]
  },
  {
   "cell_type": "code",
   "execution_count": 214,
   "id": "6000e0da-ca21-45be-b557-bb6d6278c2c0",
   "metadata": {},
   "outputs": [
    {
     "data": {
      "text/plain": [
       "array([[508.3827216]])"
      ]
     },
     "execution_count": 214,
     "metadata": {},
     "output_type": "execute_result"
    }
   ],
   "source": [
    "beta(Xi(model, 0), Y(model))"
   ]
  },
  {
   "cell_type": "code",
   "execution_count": 215,
   "id": "dd2bd0d1-ee75-45f2-a962-f4dbf137b0a0",
   "metadata": {},
   "outputs": [
    {
     "data": {
      "text/plain": [
       "1"
      ]
     },
     "execution_count": 215,
     "metadata": {},
     "output_type": "execute_result"
    }
   ],
   "source": [
    "phi_i(model, 0)"
   ]
  },
  {
   "cell_type": "code",
   "execution_count": 216,
   "id": "affceb1e-fba6-403d-bd2b-6b059bb501b8",
   "metadata": {},
   "outputs": [
    {
     "data": {
      "text/plain": [
       "10"
      ]
     },
     "execution_count": 216,
     "metadata": {},
     "output_type": "execute_result"
    }
   ],
   "source": [
    "phi_e(model)"
   ]
  },
  {
   "cell_type": "code",
   "execution_count": 223,
   "id": "9cd12b24-51e6-44ed-b3ef-a1818104bcdc",
   "metadata": {},
   "outputs": [
    {
     "data": {
      "text/html": [
       "<table class=\"simpletable\">\n",
       "<caption>OLS Regression Results</caption>\n",
       "<tr>\n",
       "  <th>Dep. Variable:</th>            <td>y</td>        <th>  R-squared:         </th> <td>   0.226</td> \n",
       "</tr>\n",
       "<tr>\n",
       "  <th>Model:</th>                   <td>OLS</td>       <th>  Adj. R-squared:    </th> <td>   0.219</td> \n",
       "</tr>\n",
       "<tr>\n",
       "  <th>Method:</th>             <td>Least Squares</td>  <th>  F-statistic:       </th> <td>   32.86</td> \n",
       "</tr>\n",
       "<tr>\n",
       "  <th>Date:</th>             <td>Thu, 18 Sep 2025</td> <th>  Prob (F-statistic):</th> <td>6.36e-51</td> \n",
       "</tr>\n",
       "<tr>\n",
       "  <th>Time:</th>                 <td>14:22:02</td>     <th>  Log-Likelihood:    </th> <td> -7094.3</td> \n",
       "</tr>\n",
       "<tr>\n",
       "  <th>No. Observations:</th>      <td>  1024</td>      <th>  AIC:               </th> <td>1.421e+04</td>\n",
       "</tr>\n",
       "<tr>\n",
       "  <th>Df Residuals:</th>          <td>  1014</td>      <th>  BIC:               </th> <td>1.426e+04</td>\n",
       "</tr>\n",
       "<tr>\n",
       "  <th>Df Model:</th>              <td>     9</td>      <th>                     </th>     <td> </td>    \n",
       "</tr>\n",
       "<tr>\n",
       "  <th>Covariance Type:</th>      <td>nonrobust</td>    <th>                     </th>     <td> </td>    \n",
       "</tr>\n",
       "</table>\n",
       "<table class=\"simpletable\">\n",
       "<tr>\n",
       "      <td></td>         <th>coef</th>     <th>std err</th>      <th>t</th>      <th>P>|t|</th>  <th>[0.025</th>    <th>0.975]</th>  \n",
       "</tr>\n",
       "<tr>\n",
       "  <th>Intercept</th> <td>   85.9682</td> <td>    7.755</td> <td>   11.086</td> <td> 0.000</td> <td>   70.751</td> <td>  101.185</td>\n",
       "</tr>\n",
       "<tr>\n",
       "  <th>X1</th>        <td>    0.6694</td> <td>    7.755</td> <td>    0.086</td> <td> 0.931</td> <td>  -14.547</td> <td>   15.886</td>\n",
       "</tr>\n",
       "<tr>\n",
       "  <th>X2</th>        <td>  -11.6472</td> <td>    7.755</td> <td>   -1.502</td> <td> 0.133</td> <td>  -26.864</td> <td>    3.570</td>\n",
       "</tr>\n",
       "<tr>\n",
       "  <th>X3</th>        <td>   33.0165</td> <td>    7.755</td> <td>    4.258</td> <td> 0.000</td> <td>   17.800</td> <td>   48.233</td>\n",
       "</tr>\n",
       "<tr>\n",
       "  <th>X4</th>        <td>   57.9873</td> <td>    7.755</td> <td>    7.478</td> <td> 0.000</td> <td>   42.771</td> <td>   73.204</td>\n",
       "</tr>\n",
       "<tr>\n",
       "  <th>X5</th>        <td>   58.2729</td> <td>    7.755</td> <td>    7.515</td> <td> 0.000</td> <td>   43.056</td> <td>   73.490</td>\n",
       "</tr>\n",
       "<tr>\n",
       "  <th>X6</th>        <td>   68.0398</td> <td>    7.755</td> <td>    8.774</td> <td> 0.000</td> <td>   52.823</td> <td>   83.257</td>\n",
       "</tr>\n",
       "<tr>\n",
       "  <th>X7</th>        <td>   71.7314</td> <td>    7.755</td> <td>    9.250</td> <td> 0.000</td> <td>   56.515</td> <td>   86.948</td>\n",
       "</tr>\n",
       "<tr>\n",
       "  <th>X8</th>        <td>    4.6921</td> <td>    7.755</td> <td>    0.605</td> <td> 0.545</td> <td>  -10.525</td> <td>   19.909</td>\n",
       "</tr>\n",
       "<tr>\n",
       "  <th>X9</th>        <td>    1.7329</td> <td>    7.755</td> <td>    0.223</td> <td> 0.823</td> <td>  -13.484</td> <td>   16.950</td>\n",
       "</tr>\n",
       "</table>\n",
       "<table class=\"simpletable\">\n",
       "<tr>\n",
       "  <th>Omnibus:</th>       <td>898.732</td> <th>  Durbin-Watson:     </th> <td>   0.600</td> \n",
       "</tr>\n",
       "<tr>\n",
       "  <th>Prob(Omnibus):</th> <td> 0.000</td>  <th>  Jarque-Bera (JB):  </th> <td>21405.527</td>\n",
       "</tr>\n",
       "<tr>\n",
       "  <th>Skew:</th>          <td> 4.102</td>  <th>  Prob(JB):          </th> <td>    0.00</td> \n",
       "</tr>\n",
       "<tr>\n",
       "  <th>Kurtosis:</th>      <td>23.842</td>  <th>  Cond. No.          </th> <td>    1.00</td> \n",
       "</tr>\n",
       "</table><br/><br/>Notes:<br/>[1] Standard Errors assume that the covariance matrix of the errors is correctly specified."
      ],
      "text/plain": [
       "<class 'statsmodels.iolib.summary.Summary'>\n",
       "\"\"\"\n",
       "                            OLS Regression Results                            \n",
       "==============================================================================\n",
       "Dep. Variable:                      y   R-squared:                       0.226\n",
       "Model:                            OLS   Adj. R-squared:                  0.219\n",
       "Method:                 Least Squares   F-statistic:                     32.86\n",
       "Date:                Thu, 18 Sep 2025   Prob (F-statistic):           6.36e-51\n",
       "Time:                        14:22:02   Log-Likelihood:                -7094.3\n",
       "No. Observations:                1024   AIC:                         1.421e+04\n",
       "Df Residuals:                    1014   BIC:                         1.426e+04\n",
       "Df Model:                           9                                         \n",
       "Covariance Type:            nonrobust                                         \n",
       "==============================================================================\n",
       "                 coef    std err          t      P>|t|      [0.025      0.975]\n",
       "------------------------------------------------------------------------------\n",
       "Intercept     85.9682      7.755     11.086      0.000      70.751     101.185\n",
       "X1             0.6694      7.755      0.086      0.931     -14.547      15.886\n",
       "X2           -11.6472      7.755     -1.502      0.133     -26.864       3.570\n",
       "X3            33.0165      7.755      4.258      0.000      17.800      48.233\n",
       "X4            57.9873      7.755      7.478      0.000      42.771      73.204\n",
       "X5            58.2729      7.755      7.515      0.000      43.056      73.490\n",
       "X6            68.0398      7.755      8.774      0.000      52.823      83.257\n",
       "X7            71.7314      7.755      9.250      0.000      56.515      86.948\n",
       "X8             4.6921      7.755      0.605      0.545     -10.525      19.909\n",
       "X9             1.7329      7.755      0.223      0.823     -13.484      16.950\n",
       "==============================================================================\n",
       "Omnibus:                      898.732   Durbin-Watson:                   0.600\n",
       "Prob(Omnibus):                  0.000   Jarque-Bera (JB):            21405.527\n",
       "Skew:                           4.102   Prob(JB):                         0.00\n",
       "Kurtosis:                      23.842   Cond. No.                         1.00\n",
       "==============================================================================\n",
       "\n",
       "Notes:\n",
       "[1] Standard Errors assume that the covariance matrix of the errors is correctly specified.\n",
       "\"\"\""
      ]
     },
     "execution_count": 223,
     "metadata": {},
     "output_type": "execute_result"
    }
   ],
   "source": [
    "ff_mlr = MLR(model, interactions=False)\n",
    "ff_mlr.result.summary()"
   ]
  },
  {
   "cell_type": "code",
   "execution_count": 224,
   "id": "2f5accfd-2e76-437b-b20f-98fda9bbbcbb",
   "metadata": {},
   "outputs": [],
   "source": [
    "from doe_modules.simulation import ff_anova_power"
   ]
  },
  {
   "cell_type": "code",
   "execution_count": 236,
   "id": "5e41b96a-0f9f-4fac-96ba-7ef5f71c1c48",
   "metadata": {},
   "outputs": [
    {
     "data": {
      "text/html": [
       "<div>\n",
       "<style scoped>\n",
       "    .dataframe tbody tr th:only-of-type {\n",
       "        vertical-align: middle;\n",
       "    }\n",
       "\n",
       "    .dataframe tbody tr th {\n",
       "        vertical-align: top;\n",
       "    }\n",
       "\n",
       "    .dataframe thead th {\n",
       "        text-align: right;\n",
       "    }\n",
       "</style>\n",
       "<table border=\"1\" class=\"dataframe\">\n",
       "  <thead>\n",
       "    <tr style=\"text-align: right;\">\n",
       "      <th></th>\n",
       "      <th>coef</th>\n",
       "      <th>std</th>\n",
       "      <th>dfn</th>\n",
       "      <th>dfd</th>\n",
       "      <th>nc</th>\n",
       "      <th>power</th>\n",
       "    </tr>\n",
       "  </thead>\n",
       "  <tbody>\n",
       "    <tr>\n",
       "      <th>X1</th>\n",
       "      <td>0.669377</td>\n",
       "      <td>51.759714</td>\n",
       "      <td>1.0</td>\n",
       "      <td>1014.0</td>\n",
       "      <td>0.171261</td>\n",
       "      <td>0.069802</td>\n",
       "    </tr>\n",
       "    <tr>\n",
       "      <th>X2</th>\n",
       "      <td>-11.647231</td>\n",
       "      <td>51.759714</td>\n",
       "      <td>1.0</td>\n",
       "      <td>1014.0</td>\n",
       "      <td>51.851537</td>\n",
       "      <td>1.000000</td>\n",
       "    </tr>\n",
       "    <tr>\n",
       "      <th>X3</th>\n",
       "      <td>33.016550</td>\n",
       "      <td>51.759714</td>\n",
       "      <td>1.0</td>\n",
       "      <td>1014.0</td>\n",
       "      <td>416.657882</td>\n",
       "      <td>1.000000</td>\n",
       "    </tr>\n",
       "    <tr>\n",
       "      <th>X4</th>\n",
       "      <td>57.987270</td>\n",
       "      <td>51.759714</td>\n",
       "      <td>1.0</td>\n",
       "      <td>1014.0</td>\n",
       "      <td>1285.232048</td>\n",
       "      <td>1.000000</td>\n",
       "    </tr>\n",
       "    <tr>\n",
       "      <th>X5</th>\n",
       "      <td>58.272921</td>\n",
       "      <td>51.759714</td>\n",
       "      <td>1.0</td>\n",
       "      <td>1014.0</td>\n",
       "      <td>1297.925632</td>\n",
       "      <td>1.000000</td>\n",
       "    </tr>\n",
       "    <tr>\n",
       "      <th>X6</th>\n",
       "      <td>68.039790</td>\n",
       "      <td>51.759714</td>\n",
       "      <td>1.0</td>\n",
       "      <td>1014.0</td>\n",
       "      <td>1769.465740</td>\n",
       "      <td>1.000000</td>\n",
       "    </tr>\n",
       "    <tr>\n",
       "      <th>X7</th>\n",
       "      <td>71.731419</td>\n",
       "      <td>51.759714</td>\n",
       "      <td>1.0</td>\n",
       "      <td>1014.0</td>\n",
       "      <td>1966.686185</td>\n",
       "      <td>1.000000</td>\n",
       "    </tr>\n",
       "    <tr>\n",
       "      <th>X8</th>\n",
       "      <td>4.692076</td>\n",
       "      <td>51.759714</td>\n",
       "      <td>1.0</td>\n",
       "      <td>1014.0</td>\n",
       "      <td>8.414848</td>\n",
       "      <td>0.825910</td>\n",
       "    </tr>\n",
       "    <tr>\n",
       "      <th>X9</th>\n",
       "      <td>1.732924</td>\n",
       "      <td>51.759714</td>\n",
       "      <td>1.0</td>\n",
       "      <td>1014.0</td>\n",
       "      <td>1.147824</td>\n",
       "      <td>0.188058</td>\n",
       "    </tr>\n",
       "  </tbody>\n",
       "</table>\n",
       "</div>"
      ],
      "text/plain": [
       "         coef        std  dfn     dfd           nc     power\n",
       "X1   0.669377  51.759714  1.0  1014.0     0.171261  0.069802\n",
       "X2 -11.647231  51.759714  1.0  1014.0    51.851537  1.000000\n",
       "X3  33.016550  51.759714  1.0  1014.0   416.657882  1.000000\n",
       "X4  57.987270  51.759714  1.0  1014.0  1285.232048  1.000000\n",
       "X5  58.272921  51.759714  1.0  1014.0  1297.925632  1.000000\n",
       "X6  68.039790  51.759714  1.0  1014.0  1769.465740  1.000000\n",
       "X7  71.731419  51.759714  1.0  1014.0  1966.686185  1.000000\n",
       "X8   4.692076  51.759714  1.0  1014.0     8.414848  0.825910\n",
       "X9   1.732924  51.759714  1.0  1014.0     1.147824  0.188058"
      ]
     },
     "execution_count": 236,
     "metadata": {},
     "output_type": "execute_result"
    }
   ],
   "source": [
    "ff_anova_power(model, ff_mlr)"
   ]
  },
  {
   "cell_type": "code",
   "execution_count": 238,
   "id": "62432cea-9cfb-4357-9a93-860e133a12c6",
   "metadata": {},
   "outputs": [
    {
     "data": {
      "text/plain": [
       "array([0.05085238, 0.32324523, 0.98909662, 0.99999998, 0.99999999,\n",
       "       1.        , 1.        , 0.09280214, 0.05572944])"
      ]
     },
     "execution_count": 238,
     "metadata": {},
     "output_type": "execute_result"
    }
   ],
   "source": [
    "np.vectorize(lambda i: power(model, i))(np.arange(9))"
   ]
  },
  {
   "cell_type": "code",
   "execution_count": 239,
   "id": "a49abd11-a674-432e-a7f5-a9f25bd1ba2f",
   "metadata": {},
   "outputs": [
    {
     "data": {
      "text/plain": [
       "array([7.45129891e-03, 2.25598169e+00, 1.81281521e+01, 5.59184960e+01,\n",
       "       5.64707746e+01, 7.69867691e+01, 8.55675314e+01, 3.66117281e-01,\n",
       "       4.99400665e-02])"
      ]
     },
     "execution_count": 239,
     "metadata": {},
     "output_type": "execute_result"
    }
   ],
   "source": [
    "np.vectorize(lambda i: lambda_i(model, i))(np.arange(9))"
   ]
  },
  {
   "cell_type": "code",
   "execution_count": 135,
   "id": "e3f3d513-9c3d-4c4e-bb87-d924e7d6159b",
   "metadata": {},
   "outputs": [
    {
     "data": {
      "text/plain": [
       "array([[ 1.,  1.,  1.,  1.,  1.,  1.,  1.,  1.,  1.],\n",
       "       [-1.,  1.,  1.,  1.,  1.,  1.,  1.,  1.,  1.],\n",
       "       [ 1., -1.,  1.,  1.,  1.,  1.,  1.,  1.,  1.],\n",
       "       [ 1.,  1., -1.,  1.,  1.,  1.,  1.,  1.,  1.],\n",
       "       [ 1.,  1.,  1., -1.,  1.,  1.,  1.,  1.,  1.],\n",
       "       [ 1.,  1.,  1.,  1., -1.,  1.,  1.,  1.,  1.],\n",
       "       [ 1.,  1.,  1.,  1.,  1., -1.,  1.,  1.,  1.],\n",
       "       [ 1.,  1.,  1.,  1.,  1.,  1., -1.,  1.,  1.],\n",
       "       [ 1.,  1.,  1.,  1.,  1.,  1.,  1., -1.,  1.],\n",
       "       [ 1.,  1.,  1.,  1.,  1.,  1.,  1.,  1., -1.]])"
      ]
     },
     "execution_count": 135,
     "metadata": {},
     "output_type": "execute_result"
    }
   ],
   "source": [
    "X(model)"
   ]
  },
  {
   "cell_type": "code",
   "execution_count": 136,
   "id": "2cb95573-45ed-4409-b428-357276d4a235",
   "metadata": {},
   "outputs": [
    {
     "data": {
      "text/plain": [
       "1"
      ]
     },
     "execution_count": 136,
     "metadata": {},
     "output_type": "execute_result"
    }
   ],
   "source": [
    "phi_e(model)"
   ]
  },
  {
   "cell_type": "code",
   "execution_count": 137,
   "id": "44b4b850-e63e-41d6-b6cc-71811875789d",
   "metadata": {},
   "outputs": [
    {
     "data": {
      "text/plain": [
       "1"
      ]
     },
     "execution_count": 137,
     "metadata": {},
     "output_type": "execute_result"
    }
   ],
   "source": [
    "np.linalg.matrix_rank(Qr(model, 0) @ Xi(model, 0))"
   ]
  },
  {
   "cell_type": "code",
   "execution_count": 95,
   "id": "399ed407-e55c-46ec-b82f-6a1a3abcaa82",
   "metadata": {},
   "outputs": [
    {
     "data": {
      "text/plain": [
       "array([[ 0.984375  , -0.01171875, -0.01171875, ...,  0.01171875,\n",
       "         0.01171875,  0.015625  ],\n",
       "       [-0.01171875,  0.984375  , -0.0078125 , ...,  0.0078125 ,\n",
       "         0.015625  ,  0.01171875],\n",
       "       [-0.01171875, -0.0078125 ,  0.984375  , ...,  0.015625  ,\n",
       "         0.0078125 ,  0.01171875],\n",
       "       ...,\n",
       "       [ 0.01171875,  0.0078125 ,  0.015625  , ...,  0.984375  ,\n",
       "        -0.0078125 , -0.01171875],\n",
       "       [ 0.01171875,  0.015625  ,  0.0078125 , ..., -0.0078125 ,\n",
       "         0.984375  , -0.01171875],\n",
       "       [ 0.015625  ,  0.01171875,  0.01171875, ..., -0.01171875,\n",
       "        -0.01171875,  0.984375  ]])"
      ]
     },
     "execution_count": 95,
     "metadata": {},
     "output_type": "execute_result"
    }
   ],
   "source": [
    "np.eye(len(Pr(model, 0))) - Pr(model, 0)"
   ]
  },
  {
   "cell_type": "code",
   "execution_count": 80,
   "id": "9ec1a29d-9c70-47ec-ad58-e28a4409cd4d",
   "metadata": {},
   "outputs": [
    {
     "data": {
      "text/plain": [
       "(512, 512)"
      ]
     },
     "execution_count": 80,
     "metadata": {},
     "output_type": "execute_result"
    }
   ],
   "source": [
    "Pr(model, 0).shape"
   ]
  },
  {
   "cell_type": "code",
   "execution_count": 76,
   "id": "76853cad-8df3-40e8-a5a5-5d545db5ac5b",
   "metadata": {},
   "outputs": [
    {
     "data": {
      "text/plain": [
       "9"
      ]
     },
     "execution_count": 76,
     "metadata": {},
     "output_type": "execute_result"
    }
   ],
   "source": [
    "model.n_factor"
   ]
  },
  {
   "cell_type": "code",
   "execution_count": 74,
   "id": "5eee210d-caa1-4383-8878-668141879902",
   "metadata": {},
   "outputs": [
    {
     "data": {
      "text/plain": [
       "(512, 8)"
      ]
     },
     "execution_count": 74,
     "metadata": {},
     "output_type": "execute_result"
    }
   ],
   "source": [
    "model.exmatrix.values[:, [idx for idx in range(model.n_factor) if idx != 0]]"
   ]
  },
  {
   "cell_type": "code",
   "execution_count": 65,
   "id": "a513fe9f-3651-446d-80fe-6bdad0a853dc",
   "metadata": {},
   "outputs": [
    {
     "data": {
      "text/plain": [
       "array([[ 0.01757812,  0.01367188,  0.01367188, ..., -0.01367188,\n",
       "        -0.01367188, -0.01757812],\n",
       "       [ 0.01367188,  0.01757812,  0.00976562, ..., -0.00976562,\n",
       "        -0.01757812, -0.01367188],\n",
       "       [ 0.01367188,  0.00976562,  0.01757812, ..., -0.01757812,\n",
       "        -0.00976562, -0.01367188],\n",
       "       ...,\n",
       "       [-0.01367188, -0.00976562, -0.01757812, ...,  0.01757812,\n",
       "         0.00976562,  0.01367188],\n",
       "       [-0.01367188, -0.01757812, -0.00976562, ...,  0.00976562,\n",
       "         0.01757812,  0.01367188],\n",
       "       [-0.01757812, -0.01367188, -0.01367188, ...,  0.01367188,\n",
       "         0.01367188,  0.01757812]])"
      ]
     },
     "execution_count": 65,
     "metadata": {},
     "output_type": "execute_result"
    }
   ],
   "source": [
    "P(model)"
   ]
  },
  {
   "cell_type": "code",
   "execution_count": 57,
   "id": "e80fc729-883c-461d-b623-96eb8225a826",
   "metadata": {},
   "outputs": [
    {
     "ename": "NameError",
     "evalue": "name 'theoretical_effects' is not defined",
     "output_type": "error",
     "traceback": [
      "\u001b[0;31m---------------------------------------------------------------------------\u001b[0m",
      "\u001b[0;31mNameError\u001b[0m                                 Traceback (most recent call last)",
      "Cell \u001b[0;32mIn[57], line 1\u001b[0m\n\u001b[0;32m----> 1\u001b[0m hoge \u001b[38;5;241m=\u001b[39m \u001b[43mtheoretical_effects\u001b[49m(model, interactions\u001b[38;5;241m=\u001b[39m\u001b[38;5;28;01mTrue\u001b[39;00m, order\u001b[38;5;241m=\u001b[39m\u001b[38;5;241m2\u001b[39m)\n",
      "\u001b[0;31mNameError\u001b[0m: name 'theoretical_effects' is not defined"
     ]
    }
   ],
   "source": [
    "hoge = theoretical_effects(model, interactions=True, order=2)"
   ]
  },
  {
   "cell_type": "code",
   "execution_count": 58,
   "id": "2b0ab51d-fb32-41b7-ae6d-9bf20311d6b2",
   "metadata": {},
   "outputs": [
    {
     "ename": "IndexError",
     "evalue": "only integers, slices (`:`), ellipsis (`...`), numpy.newaxis (`None`) and integer or boolean arrays are valid indices",
     "output_type": "error",
     "traceback": [
      "\u001b[0;31m---------------------------------------------------------------------------\u001b[0m",
      "\u001b[0;31mIndexError\u001b[0m                                Traceback (most recent call last)",
      "Cell \u001b[0;32mIn[58], line 1\u001b[0m\n\u001b[0;32m----> 1\u001b[0m hoge[\u001b[43mhoge\u001b[49m\u001b[43m[\u001b[49m\u001b[38;5;124;43m\"\u001b[39;49m\u001b[38;5;124;43mterm\u001b[39;49m\u001b[38;5;124;43m\"\u001b[39;49m\u001b[43m]\u001b[49m\u001b[38;5;241m.\u001b[39mstr\u001b[38;5;241m.\u001b[39mcontains(\u001b[38;5;124m\"\u001b[39m\u001b[38;5;124mX1\u001b[39m\u001b[38;5;124m\"\u001b[39m)]\n",
      "\u001b[0;31mIndexError\u001b[0m: only integers, slices (`:`), ellipsis (`...`), numpy.newaxis (`None`) and integer or boolean arrays are valid indices"
     ]
    }
   ],
   "source": [
    "hoge[hoge[\"term\"].str.contains(\"X1\")]"
   ]
  },
  {
   "cell_type": "code",
   "execution_count": null,
   "id": "84d793d3-59c8-4efa-95c6-4f8e163f2f3f",
   "metadata": {},
   "outputs": [],
   "source": [
    "theoretical_effects_encoder(model, interactions=True, order=2).loc[\"X1\"]"
   ]
  },
  {
   "cell_type": "code",
   "execution_count": null,
   "id": "8ff76aed-af58-4e1c-8a26-60799fcf7273",
   "metadata": {},
   "outputs": [],
   "source": [
    "fig, ax = plt.subplots(1, 3, figsize=(10, 3))\n",
    "\n",
    "model = [Sim1, Circuit, Sparse][-1]()\n",
    "jitter_ratio=.04\n",
    "\n",
    "for sigma, a in zip([.5, 1, 2], ax.ravel()):\n",
    "\n",
    "    plot_theoretical_effects(\n",
    "        model, interactions=False, model_kwargs=dict(kwarg_err=dict(loc=0, scale=sigma)),\n",
    "        ax=a, jitter_ratio=jitter_ratio,\n",
    "        **dict(capsize=.25, errwidth=1, linewidth=1,)\n",
    "    )\n",
    "\n",
    "    a.set(ylabel=\"\", title=\"$\\sigma=\" + f\"{sigma}\" + \"$\")\n",
    "    a.set_xlim(np.array(a.get_xlim()) * np.array([(1 + jitter_ratio * 20), (1 + jitter_ratio * 2)]))"
   ]
  },
  {
   "cell_type": "code",
   "execution_count": null,
   "id": "8a1e5736-e430-46bb-81a0-17215ccd7491",
   "metadata": {},
   "outputs": [],
   "source": [
    "fig, ax = plt.subplots(figsize=(9, 3))\n",
    "\n",
    "data = theoretical_effects(model, interactions=False, order=2, n_rep=10)\n",
    "\n",
    "sns.barplot(\n",
    "    data=data,\n",
    "    x=\"Coefficient\", y=\"term\", ax=ax,\n",
    "    palette=circuit, \n",
    "    alpha=.5,\n",
    "    edgecolor=circuit,\n",
    "    n_boot=9999,\n",
    "    **dict(capsize=.25, errwidth=1, linewidth=1,)\n",
    ")\n",
    "\n",
    "# sns.swarmplot(\n",
    "#     data=data,\n",
    "#     x=\"effects\", y=\"term\", ax=ax, legend=False, \n",
    "#     # hue=\"term\", \n",
    "#     color=\".2\"\n",
    "# )\n",
    "\n",
    "ax.set(ylabel=\"\")\n",
    "\n",
    "# ax.get_legend().remove()"
   ]
  },
  {
   "cell_type": "code",
   "execution_count": 725,
   "id": "b8cab883-2245-42f2-9a10-5097559fba27",
   "metadata": {},
   "outputs": [
    {
     "data": {
      "image/png": "[encoded data removed]",
      "text/plain": [
       "<Figure size 640x480 with 1 Axes>"
      ]
     },
     "metadata": {},
     "output_type": "display_data"
    }
   ],
   "source": [
    "fig, ax = plt.subplots()\n",
    "model.plot(ax=ax)"
   ]
  },
  {
   "cell_type": "code",
   "execution_count": 742,
   "id": "f83219c9-6869-4fac-a07f-ff238fbbc9fa",
   "metadata": {},
   "outputs": [
    {
     "data": {
      "text/plain": [
       "array([ 1, -1,  1,  1,  1,  1,  1,  1,  0])"
      ]
     },
     "execution_count": 742,
     "metadata": {},
     "output_type": "execute_result"
    }
   ],
   "source": [
    "theoretical_effects_encoder(model, interactions=False, order=2, n_rep=10, dtype=int).values.ravel()"
   ]
  },
  {
   "cell_type": "code",
   "execution_count": 512,
   "id": "890469a8-ce8c-4a1d-aba4-4363099a6a8d",
   "metadata": {},
   "outputs": [
    {
     "data": {
      "text/plain": [
       "array([216.33489667, 359.71310791, 402.15498921, 404.93082572])"
      ]
     },
     "execution_count": 512,
     "metadata": {},
     "output_type": "execute_result"
    }
   ],
   "source": [
    "get_main_effect(model)"
   ]
  },
  {
   "cell_type": "code",
   "execution_count": 513,
   "id": "74a0a969-b619-46d1-899a-6d19391fcda8",
   "metadata": {},
   "outputs": [
    {
     "data": {
      "text/plain": [
       "array([110.01002452, 164.0807174 , 115.18368427, 218.52066881,\n",
       "       224.72531151, 285.15851658])"
      ]
     },
     "execution_count": 513,
     "metadata": {},
     "output_type": "execute_result"
    }
   ],
   "source": [
    "get_2way_interactions(model)"
   ]
  },
  {
   "cell_type": "code",
   "execution_count": 526,
   "id": "ebc7164c-772a-4a3b-aa5c-cdfbfdb3b970",
   "metadata": {},
   "outputs": [
    {
     "data": {
      "text/plain": [
       "['X1',\n",
       " 'X2',\n",
       " 'X3',\n",
       " 'X4',\n",
       " 'X1X2',\n",
       " 'X1X3',\n",
       " 'X1X4',\n",
       " 'X2X3',\n",
       " 'X2X4',\n",
       " 'X3X4',\n",
       " 'X1X2X3',\n",
       " 'X1X2X4',\n",
       " 'X1X3X4',\n",
       " 'X2X3X4']"
      ]
     },
     "execution_count": 526,
     "metadata": {},
     "output_type": "execute_result"
    }
   ],
   "source": [
    "FullFactorial().get_exmatrix(4).interactions(3).columns.tolist()"
   ]
  },
  {
   "cell_type": "code",
   "execution_count": 487,
   "id": "e25cb1ad-b381-46b3-9243-f9856c999989",
   "metadata": {},
   "outputs": [
    {
     "data": {
      "text/plain": [
       "110.01002451955051"
      ]
     },
     "execution_count": 487,
     "metadata": {},
     "output_type": "execute_result"
    }
   ],
   "source": [
    "(\n",
    "    FullFactorial().get_exmatrix(4).interactions(2)[\"X1X2\"].values * model.exresult\n",
    ").mean()"
   ]
  },
  {
   "cell_type": "code",
   "execution_count": 469,
   "id": "7492c6d8-f4da-4b6f-bd50-1d1d9cbabbeb",
   "metadata": {},
   "outputs": [
    {
     "data": {
      "text/plain": [
       "array([432.66979334, 719.42621582, 804.30997842, 809.86165144])"
      ]
     },
     "execution_count": 469,
     "metadata": {},
     "output_type": "execute_result"
    }
   ],
   "source": [
    "get_main_effects(model.exresult, 4)"
   ]
  },
  {
   "cell_type": "code",
   "execution_count": 509,
   "id": "df734217-da0a-4ee0-823b-9003d3a61a40",
   "metadata": {},
   "outputs": [
    {
     "data": {
      "text/plain": [
       "array([216.33489667, 359.71310791, 402.15498921, 404.93082572])"
      ]
     },
     "execution_count": 509,
     "metadata": {},
     "output_type": "execute_result"
    }
   ],
   "source": [
    "get_main_effects2(model)"
   ]
  },
  {
   "cell_type": "code",
   "execution_count": 502,
   "id": "a1b14263-a287-4953-bec7-332aa9d529e2",
   "metadata": {},
   "outputs": [],
   "source": [
    "pospos, posneg, negpos, negneg = get_2way_interactions(model)"
   ]
  },
  {
   "cell_type": "code",
   "execution_count": 503,
   "id": "3f5cfc3f-a5de-4678-985e-fc2c1e4311f2",
   "metadata": {},
   "outputs": [
    {
     "data": {
      "text/plain": [
       "array([ 59.82531182, 273.27103994, 649.56950573, 777.49453483])"
      ]
     },
     "execution_count": 503,
     "metadata": {},
     "output_type": "execute_result"
    }
   ],
   "source": [
    "(pospos - posneg) - (negpos - negneg)"
   ]
  },
  {
   "cell_type": "code",
   "execution_count": 507,
   "id": "cef2c115-3055-4b63-a841-e35099f5db1d",
   "metadata": {},
   "outputs": [
    {
     "data": {
      "text/plain": [
       "array([ 59.82531182, 273.27103994, 649.56950573, 777.49453483])"
      ]
     },
     "execution_count": 507,
     "metadata": {},
     "output_type": "execute_result"
    }
   ],
   "source": [
    "((pospos - posneg) - (negpos - negneg))"
   ]
  },
  {
   "cell_type": "code",
   "execution_count": 506,
   "id": "3f5ff816-6414-430a-8697-f6db773b6a02",
   "metadata": {},
   "outputs": [
    {
     "data": {
      "text/plain": [
       "array([110.01002452, 164.0807174 , 115.18368427, 218.52066881,\n",
       "       224.72531151, 285.15851658])"
      ]
     },
     "execution_count": 506,
     "metadata": {},
     "output_type": "execute_result"
    }
   ],
   "source": [
    "get_2way_interactions2(model)"
   ]
  },
  {
   "cell_type": "code",
   "execution_count": 284,
   "id": "2e913200-7265-48a2-ab4f-f7892e33af45",
   "metadata": {},
   "outputs": [
    {
     "data": {
      "text/plain": [
       "array([0.        , 0.78260737])"
      ]
     },
     "execution_count": 284,
     "metadata": {},
     "output_type": "execute_result"
    }
   ],
   "source": [
    "model.exresult[(0, 2),]"
   ]
  },
  {
   "cell_type": "code",
   "execution_count": 256,
   "id": "f8e175d7-9a12-48aa-a129-8a69cd5ab9bc",
   "metadata": {},
   "outputs": [
    {
     "data": {
      "text/plain": [
       "True"
      ]
     },
     "execution_count": 256,
     "metadata": {},
     "output_type": "execute_result"
    }
   ],
   "source": [
    "model.exresult[::-1][1] == model.exresult[-2]"
   ]
  },
  {
   "cell_type": "code",
   "execution_count": 283,
   "id": "d439eb7f-77ce-43f3-8dd5-98787a595d52",
   "metadata": {},
   "outputs": [
    {
     "data": {
      "text/plain": [
       "5.939272800875433"
      ]
     },
     "execution_count": 283,
     "metadata": {},
     "output_type": "execute_result"
    }
   ],
   "source": [
    "np.diff(model.exresult.reshape(2, 2 ** (9 - 1)).T).mean()"
   ]
  },
  {
   "cell_type": "code",
   "execution_count": 372,
   "id": "1cf037ed-9ecf-4490-9515-a1382c198fe3",
   "metadata": {},
   "outputs": [
    {
     "data": {
      "text/plain": [
       "54.83281170502562"
      ]
     },
     "execution_count": 372,
     "metadata": {},
     "output_type": "execute_result"
    }
   ],
   "source": [
    "col = 6\n",
    "i = col + 1\n",
    "np.diff([m.T for m in model.exresult.reshape(-1 , 2,  2 ** (9 - i))]).mean()"
   ]
  },
  {
   "cell_type": "code",
   "execution_count": 367,
   "id": "87aa6889-89f2-4ec0-bf10-d13f9c8acd2b",
   "metadata": {},
   "outputs": [
    {
     "data": {
      "text/plain": [
       "5.939272800875433"
      ]
     },
     "execution_count": 367,
     "metadata": {},
     "output_type": "execute_result"
    }
   ],
   "source": [
    "np.diff([m.T for m in model.exresult.reshape(-1 , 2,  2 ** 8)]).mean()"
   ]
  },
  {
   "cell_type": "code",
   "execution_count": 365,
   "id": "65deb8ca-e430-4f65-ae33-ff6adec14132",
   "metadata": {},
   "outputs": [
    {
     "data": {
      "text/plain": [
       "54.83281170502562"
      ]
     },
     "execution_count": 365,
     "metadata": {},
     "output_type": "execute_result"
    }
   ],
   "source": [
    "np.diff([m.T for m in model.exresult.reshape(-1 , 2,  2 ** 2)]).mean()"
   ]
  },
  {
   "cell_type": "code",
   "execution_count": 342,
   "id": "62433852-e7bf-4b0a-8ecf-6af009c0a444",
   "metadata": {},
   "outputs": [
    {
     "data": {
      "text/plain": [
       "-17.378163917778814"
      ]
     },
     "execution_count": 342,
     "metadata": {},
     "output_type": "execute_result"
    }
   ],
   "source": [
    "np.diff([m.T for m in model.exresult.reshape(-1 , 2,  2 ** 1)]).mean()"
   ]
  },
  {
   "cell_type": "code",
   "execution_count": 366,
   "id": "3a5d40b5-ac29-4092-b5b3-09bc374ebf53",
   "metadata": {},
   "outputs": [
    {
     "data": {
      "text/plain": [
       "-60.34852703735734"
      ]
     },
     "execution_count": 366,
     "metadata": {},
     "output_type": "execute_result"
    }
   ],
   "source": [
    "np.diff([m.T for m in model.exresult.reshape(-1 , 2,  2 ** 0)]).mean()"
   ]
  },
  {
   "cell_type": "code",
   "execution_count": 350,
   "id": "da4390c1-7315-466f-bf4d-12a178ee31bf",
   "metadata": {},
   "outputs": [
    {
     "data": {
      "text/plain": [
       "-60.34852703735734"
      ]
     },
     "execution_count": 350,
     "metadata": {},
     "output_type": "execute_result"
    }
   ],
   "source": [
    "np.diff(model.exresult.reshape(-1, 2)).mean()"
   ]
  },
  {
   "cell_type": "code",
   "execution_count": 260,
   "id": "201a13a1-1173-428a-ad7e-5870fc70fcbf",
   "metadata": {},
   "outputs": [
    {
     "data": {
      "text/plain": [
       "array([9.93238145, 0.        ])"
      ]
     },
     "execution_count": 260,
     "metadata": {},
     "output_type": "execute_result"
    }
   ],
   "source": [
    "model.exresult[::-1].reshape(2, -1)[:, -1]"
   ]
  },
  {
   "cell_type": "code",
   "execution_count": null,
   "id": "55a4b4d6-a63d-416c-a389-72aa9dc251d4",
   "metadata": {},
   "outputs": [],
   "source": []
  }
 ],
 "metadata": {
  "kernelspec": {
   "display_name": "Python 3 (ipykernel)",
   "language": "python",
   "name": "python3"
  },
  "language_info": {
   "codemirror_mode": {
    "name": "ipython",
    "version": 3
   },
   "file_extension": ".py",
   "mimetype": "text/x-python",
   "name": "python",
   "nbconvert_exporter": "python",
   "pygments_lexer": "ipython3",
   "version": "3.10.8"
  }
 },
 "nbformat": 4,
 "nbformat_minor": 5
}
