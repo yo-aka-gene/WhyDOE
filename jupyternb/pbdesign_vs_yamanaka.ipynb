{
 "cells": [
  {
   "cell_type": "code",
   "execution_count": 1,
   "id": "6065a4ba-5213-4ff5-b8c9-f08c06e31d0f",
   "metadata": {},
   "outputs": [],
   "source": [
    "import matplotlib.pyplot as plt\n",
    "\n",
    "from code.design import Yamanaka, PlackettBurman\n",
    "from code.plot import correlation_heatmap, design_heatmap\n",
    "from code.preferences import kwarg_savefig, outputdir"
   ]
  },
  {
   "cell_type": "code",
   "execution_count": 2,
   "id": "46fc7975-a72c-4744-b416-68074598a779",
   "metadata": {},
   "outputs": [],
   "source": [
    "for name, doe in {\"Yamanaka\": Yamanaka, \"Plackett-Burman\": PlackettBurman}.items():\n",
    "\n",
    "    fig, ax = plt.subplots(figsize=(10, 8))\n",
    "\n",
    "    correlation_heatmap(\n",
    "        design=doe, n_factor=8, ax=ax,\n",
    "        cmap=\"coolwarm\", square=True, \n",
    "    )\n",
    "    ax.set(title=f\"{name} Design\")\n",
    "    fig.savefig(f\"{outputdir}/{name.lower()}_corr.png\", **kwarg_savefig)"
   ]
  },
  {
   "cell_type": "code",
   "execution_count": 3,
   "id": "ae20484f-0990-402c-883e-3bb5799eda56",
   "metadata": {},
   "outputs": [],
   "source": [
    "for name, doe in {\"Yamanaka\": Yamanaka, \"Plackett-Burman\": PlackettBurman}.items():\n",
    "\n",
    "    fig, ax = plt.subplots(figsize=(3, 3))\n",
    "\n",
    "    design_heatmap(\n",
    "        design=doe, n_factor=8, ax=ax,\n",
    "        cmap=\"Purples\", square=True, \n",
    "    )\n",
    "    ax.set(title=f\"{name} Design\")\n",
    "    fig.savefig(f\"{outputdir}/{name.lower()}.png\", **kwarg_savefig)"
   ]
  },
  {
   "cell_type": "code",
   "execution_count": null,
   "id": "038f7ce3-0623-44ae-aa74-f39cc434d98e",
   "metadata": {},
   "outputs": [],
   "source": []
  }
 ],
 "metadata": {
  "kernelspec": {
   "display_name": "Python 3 (ipykernel)",
   "language": "python",
   "name": "python3"
  },
  "language_info": {
   "codemirror_mode": {
    "name": "ipython",
    "version": 3
   },
   "file_extension": ".py",
   "mimetype": "text/x-python",
   "name": "python",
   "nbconvert_exporter": "python",
   "pygments_lexer": "ipython3",
   "version": "3.10.8"
  }
 },
 "nbformat": 4,
 "nbformat_minor": 5
}
